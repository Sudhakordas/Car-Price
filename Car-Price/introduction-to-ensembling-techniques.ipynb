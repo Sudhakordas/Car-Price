{
 "cells": [
  {
   "cell_type": "markdown",
   "metadata": {
    "papermill": {
     "duration": 0.068269,
     "end_time": "2021-02-17T13:06:00.378094",
     "exception": false,
     "start_time": "2021-02-17T13:06:00.309825",
     "status": "completed"
    },
    "tags": []
   },
   "source": [
    "## <p style=\"background-color:skyblue; font-family:newtimeroman; font-size:180%; text-align:center\">1. Introduction</p>"
   ]
  },
  {
   "cell_type": "markdown",
   "metadata": {
    "papermill": {
     "duration": 0.064243,
     "end_time": "2021-02-17T13:06:00.507677",
     "exception": false,
     "start_time": "2021-02-17T13:06:00.443434",
     "status": "completed"
    },
    "tags": []
   },
   "source": [
    "Wikipedia Says - In statistics and machine learning, ensemble methods use multiple learning algorithms to obtain better predictive performance than could be obtained from any of the constituent learning algorithms alone. \n",
    "\n",
    "In simple terms - In ensembling we try to use the learnings from multiple algorithms to make a more efficient algorithm. For example Random Forest algorithms - It's a ensembling algorithm that uses multiple decision trees. Look at the below picture - \n",
    "\n",
    "<img src=\"https://www.kdnuggets.com/wp-content/uploads/ensemble-framework-packt.jpg\">\n",
    "\n",
    "\n",
    "\n",
    "<br/>So we try to use multiple algorithms to enhance the performance. The concept of ensembling is pretty simple. What's required is a robust technique to do this ensembling. In this Notebook we'll se what are techniques used for ensembling. For ex - \n",
    "\n",
    "- Weighted Ensembling Approach\n",
    "- VotingClassifier\n",
    "- StackingClassifier\n",
    "- Ensembling using a custom model\n",
    "- Bayesian optimal classifier.\n",
    "\n",
    "Details in each forthcoming sections. We'll cover each step of model development. \n",
    "\n",
    "- Data Processing\n",
    "- Feature Engineering\n",
    "- Model Development\n",
    "- Ensembling\n",
    "- Evaluation\n",
    "\n",
    "Let's Begin!"
   ]
  },
  {
   "cell_type": "code",
   "execution_count": 1,
   "metadata": {
    "_cell_guid": "b1076dfc-b9ad-4769-8c92-a6c4dae69d19",
    "_uuid": "8f2839f25d086af736a60e9eeb907d3b93b6e0e5",
    "execution": {
     "iopub.execute_input": "2021-02-17T13:06:00.643895Z",
     "iopub.status.busy": "2021-02-17T13:06:00.643131Z",
     "iopub.status.idle": "2021-02-17T13:06:02.997829Z",
     "shell.execute_reply": "2021-02-17T13:06:02.998596Z"
    },
    "papermill": {
     "duration": 2.427466,
     "end_time": "2021-02-17T13:06:02.999078",
     "exception": false,
     "start_time": "2021-02-17T13:06:00.571612",
     "status": "completed"
    },
    "tags": []
   },
   "outputs": [
    {
     "data": {
      "text/html": [
       "<style type='text/css'>\n",
       ".datatable table.frame { margin-bottom: 0; }\n",
       ".datatable table.frame thead { border-bottom: none; }\n",
       ".datatable table.frame tr.coltypes td {  color: #FFFFFF;  line-height: 6px;  padding: 0 0.5em;}\n",
       ".datatable .bool    { background: #DDDD99; }\n",
       ".datatable .object  { background: #565656; }\n",
       ".datatable .int     { background: #5D9E5D; }\n",
       ".datatable .float   { background: #4040CC; }\n",
       ".datatable .str     { background: #CC4040; }\n",
       ".datatable .row_index {  background: var(--jp-border-color3);  border-right: 1px solid var(--jp-border-color0);  color: var(--jp-ui-font-color3);  font-size: 9px;}\n",
       ".datatable .frame tr.coltypes .row_index {  background: var(--jp-border-color0);}\n",
       ".datatable th:nth-child(2) { padding-left: 12px; }\n",
       ".datatable .hellipsis {  color: var(--jp-cell-editor-border-color);}\n",
       ".datatable .vellipsis {  background: var(--jp-layout-color0);  color: var(--jp-cell-editor-border-color);}\n",
       ".datatable .na {  color: var(--jp-cell-editor-border-color);  font-size: 80%;}\n",
       ".datatable .footer { font-size: 9px; }\n",
       ".datatable .frame_dimensions {  background: var(--jp-border-color3);  border-top: 1px solid var(--jp-border-color0);  color: var(--jp-ui-font-color3);  display: inline-block;  opacity: 0.6;  padding: 1px 10px 1px 5px;}\n",
       "</style>\n"
      ],
      "text/plain": [
       "<IPython.core.display.HTML object>"
      ]
     },
     "metadata": {},
     "output_type": "display_data"
    }
   ],
   "source": [
    "# Basic Library\n",
    "import pandas as pd \n",
    "import numpy as np\n",
    "import matplotlib.pyplot as plt\n",
    "import seaborn as sns\n",
    "from collections import Counter\n",
    "import scipy.stats as stats\n",
    "import warnings\n",
    "warnings.filterwarnings(\"ignore\")\n",
    "\n",
    "# sklearn utility\n",
    "from sklearn.metrics import f1_score,confusion_matrix\n",
    "from sklearn.metrics import accuracy_score\n",
    "from sklearn import metrics   \n",
    "from sklearn.model_selection import KFold\n",
    "from sklearn.model_selection import cross_val_score, train_test_split\n",
    "from sklearn.utils import shuffle\n",
    "from sklearn.model_selection import RepeatedStratifiedKFold\n",
    "\n",
    "## XGBoost\n",
    "from xgboost import XGBClassifier\n",
    "import xgboost as xgb\n",
    "\n",
    "### LightGBM\n",
    "from lightgbm import LGBMClassifier\n",
    "import lightgbm as lgb\n",
    "\n",
    "### CatBoost\n",
    "from catboost import CatBoostClassifier\n",
    "import catboost as catboost\n",
    "\n",
    "## sklearn ensembles \n",
    "from sklearn.ensemble import RandomForestClassifier, GradientBoostingClassifier, AdaBoostClassifier\n",
    "from sklearn.linear_model import LogisticRegression\n",
    "from sklearn.neural_network import MLPClassifier"
   ]
  },
  {
   "cell_type": "markdown",
   "metadata": {
    "papermill": {
     "duration": 0.071059,
     "end_time": "2021-02-17T13:06:03.137404",
     "exception": false,
     "start_time": "2021-02-17T13:06:03.066345",
     "status": "completed"
    },
    "tags": []
   },
   "source": [
    "## Reading the Data!"
   ]
  },
  {
   "cell_type": "code",
   "execution_count": 2,
   "metadata": {
    "execution": {
     "iopub.execute_input": "2021-02-17T13:06:03.282153Z",
     "iopub.status.busy": "2021-02-17T13:06:03.281462Z",
     "iopub.status.idle": "2021-02-17T13:06:03.340984Z",
     "shell.execute_reply": "2021-02-17T13:06:03.341491Z"
    },
    "papermill": {
     "duration": 0.13723,
     "end_time": "2021-02-17T13:06:03.341669",
     "exception": false,
     "start_time": "2021-02-17T13:06:03.204439",
     "status": "completed"
    },
    "tags": []
   },
   "outputs": [
    {
     "data": {
      "text/html": [
       "<div>\n",
       "<style scoped>\n",
       "    .dataframe tbody tr th:only-of-type {\n",
       "        vertical-align: middle;\n",
       "    }\n",
       "\n",
       "    .dataframe tbody tr th {\n",
       "        vertical-align: top;\n",
       "    }\n",
       "\n",
       "    .dataframe thead th {\n",
       "        text-align: right;\n",
       "    }\n",
       "</style>\n",
       "<table border=\"1\" class=\"dataframe\">\n",
       "  <thead>\n",
       "    <tr style=\"text-align: right;\">\n",
       "      <th></th>\n",
       "      <th>PassengerId</th>\n",
       "      <th>Survived</th>\n",
       "      <th>Pclass</th>\n",
       "      <th>Name</th>\n",
       "      <th>Sex</th>\n",
       "      <th>Age</th>\n",
       "      <th>SibSp</th>\n",
       "      <th>Parch</th>\n",
       "      <th>Ticket</th>\n",
       "      <th>Fare</th>\n",
       "      <th>Cabin</th>\n",
       "      <th>Embarked</th>\n",
       "    </tr>\n",
       "  </thead>\n",
       "  <tbody>\n",
       "    <tr>\n",
       "      <th>0</th>\n",
       "      <td>1</td>\n",
       "      <td>0</td>\n",
       "      <td>3</td>\n",
       "      <td>Braund, Mr. Owen Harris</td>\n",
       "      <td>male</td>\n",
       "      <td>22.0</td>\n",
       "      <td>1</td>\n",
       "      <td>0</td>\n",
       "      <td>A/5 21171</td>\n",
       "      <td>7.2500</td>\n",
       "      <td>NaN</td>\n",
       "      <td>S</td>\n",
       "    </tr>\n",
       "    <tr>\n",
       "      <th>1</th>\n",
       "      <td>2</td>\n",
       "      <td>1</td>\n",
       "      <td>1</td>\n",
       "      <td>Cumings, Mrs. John Bradley (Florence Briggs Th...</td>\n",
       "      <td>female</td>\n",
       "      <td>38.0</td>\n",
       "      <td>1</td>\n",
       "      <td>0</td>\n",
       "      <td>PC 17599</td>\n",
       "      <td>71.2833</td>\n",
       "      <td>C85</td>\n",
       "      <td>C</td>\n",
       "    </tr>\n",
       "    <tr>\n",
       "      <th>2</th>\n",
       "      <td>3</td>\n",
       "      <td>1</td>\n",
       "      <td>3</td>\n",
       "      <td>Heikkinen, Miss. Laina</td>\n",
       "      <td>female</td>\n",
       "      <td>26.0</td>\n",
       "      <td>0</td>\n",
       "      <td>0</td>\n",
       "      <td>STON/O2. 3101282</td>\n",
       "      <td>7.9250</td>\n",
       "      <td>NaN</td>\n",
       "      <td>S</td>\n",
       "    </tr>\n",
       "    <tr>\n",
       "      <th>3</th>\n",
       "      <td>4</td>\n",
       "      <td>1</td>\n",
       "      <td>1</td>\n",
       "      <td>Futrelle, Mrs. Jacques Heath (Lily May Peel)</td>\n",
       "      <td>female</td>\n",
       "      <td>35.0</td>\n",
       "      <td>1</td>\n",
       "      <td>0</td>\n",
       "      <td>113803</td>\n",
       "      <td>53.1000</td>\n",
       "      <td>C123</td>\n",
       "      <td>S</td>\n",
       "    </tr>\n",
       "    <tr>\n",
       "      <th>4</th>\n",
       "      <td>5</td>\n",
       "      <td>0</td>\n",
       "      <td>3</td>\n",
       "      <td>Allen, Mr. William Henry</td>\n",
       "      <td>male</td>\n",
       "      <td>35.0</td>\n",
       "      <td>0</td>\n",
       "      <td>0</td>\n",
       "      <td>373450</td>\n",
       "      <td>8.0500</td>\n",
       "      <td>NaN</td>\n",
       "      <td>S</td>\n",
       "    </tr>\n",
       "  </tbody>\n",
       "</table>\n",
       "</div>"
      ],
      "text/plain": [
       "   PassengerId  Survived  Pclass  \\\n",
       "0            1         0       3   \n",
       "1            2         1       1   \n",
       "2            3         1       3   \n",
       "3            4         1       1   \n",
       "4            5         0       3   \n",
       "\n",
       "                                                Name     Sex   Age  SibSp  \\\n",
       "0                            Braund, Mr. Owen Harris    male  22.0      1   \n",
       "1  Cumings, Mrs. John Bradley (Florence Briggs Th...  female  38.0      1   \n",
       "2                             Heikkinen, Miss. Laina  female  26.0      0   \n",
       "3       Futrelle, Mrs. Jacques Heath (Lily May Peel)  female  35.0      1   \n",
       "4                           Allen, Mr. William Henry    male  35.0      0   \n",
       "\n",
       "   Parch            Ticket     Fare Cabin Embarked  \n",
       "0      0         A/5 21171   7.2500   NaN        S  \n",
       "1      0          PC 17599  71.2833   C85        C  \n",
       "2      0  STON/O2. 3101282   7.9250   NaN        S  \n",
       "3      0            113803  53.1000  C123        S  \n",
       "4      0            373450   8.0500   NaN        S  "
      ]
     },
     "execution_count": 2,
     "metadata": {},
     "output_type": "execute_result"
    }
   ],
   "source": [
    "# Titanic Dataset\n",
    "titanic_train = pd.read_csv(\"../input/titanic/train.csv\")\n",
    "titanic_test = pd.read_csv(\"../input/titanic/test.csv\")\n",
    "dataset = \"titanic\"\n",
    "IdCol = 'PassengerId'\n",
    "targetCol = 'Survived'\n",
    "titanic_train.head()"
   ]
  },
  {
   "cell_type": "markdown",
   "metadata": {
    "papermill": {
     "duration": 0.066508,
     "end_time": "2021-02-17T13:06:03.475529",
     "exception": false,
     "start_time": "2021-02-17T13:06:03.409021",
     "status": "completed"
    },
    "tags": []
   },
   "source": [
    "## <p style=\"background-color:skyblue; font-family:newtimeroman; font-size:180%; text-align:center\">2. Data Preparation</p>"
   ]
  },
  {
   "cell_type": "code",
   "execution_count": 3,
   "metadata": {
    "execution": {
     "iopub.execute_input": "2021-02-17T13:06:03.619945Z",
     "iopub.status.busy": "2021-02-17T13:06:03.619097Z",
     "iopub.status.idle": "2021-02-17T13:06:03.623619Z",
     "shell.execute_reply": "2021-02-17T13:06:03.622965Z"
    },
    "papermill": {
     "duration": 0.079656,
     "end_time": "2021-02-17T13:06:03.623769",
     "exception": false,
     "start_time": "2021-02-17T13:06:03.544113",
     "status": "completed"
    },
    "tags": []
   },
   "outputs": [
    {
     "data": {
      "text/plain": [
       "Index(['PassengerId', 'Survived', 'Pclass', 'Name', 'Sex', 'Age', 'SibSp',\n",
       "       'Parch', 'Ticket', 'Fare', 'Cabin', 'Embarked'],\n",
       "      dtype='object')"
      ]
     },
     "execution_count": 3,
     "metadata": {},
     "output_type": "execute_result"
    }
   ],
   "source": [
    "titanic_train.columns"
   ]
  },
  {
   "cell_type": "code",
   "execution_count": 4,
   "metadata": {
    "execution": {
     "iopub.execute_input": "2021-02-17T13:06:03.764018Z",
     "iopub.status.busy": "2021-02-17T13:06:03.763001Z",
     "iopub.status.idle": "2021-02-17T13:06:03.768275Z",
     "shell.execute_reply": "2021-02-17T13:06:03.767699Z"
    },
    "papermill": {
     "duration": 0.080148,
     "end_time": "2021-02-17T13:06:03.768418",
     "exception": false,
     "start_time": "2021-02-17T13:06:03.688270",
     "status": "completed"
    },
    "tags": []
   },
   "outputs": [
    {
     "data": {
      "text/plain": [
       "PassengerId      int64\n",
       "Survived         int64\n",
       "Pclass           int64\n",
       "Name            object\n",
       "Sex             object\n",
       "Age            float64\n",
       "SibSp            int64\n",
       "Parch            int64\n",
       "Ticket          object\n",
       "Fare           float64\n",
       "Cabin           object\n",
       "Embarked        object\n",
       "dtype: object"
      ]
     },
     "execution_count": 4,
     "metadata": {},
     "output_type": "execute_result"
    }
   ],
   "source": [
    "titanic_train.dtypes"
   ]
  },
  {
   "cell_type": "code",
   "execution_count": 5,
   "metadata": {
    "execution": {
     "iopub.execute_input": "2021-02-17T13:06:03.907955Z",
     "iopub.status.busy": "2021-02-17T13:06:03.905191Z",
     "iopub.status.idle": "2021-02-17T13:06:03.922539Z",
     "shell.execute_reply": "2021-02-17T13:06:03.921907Z"
    },
    "papermill": {
     "duration": 0.089262,
     "end_time": "2021-02-17T13:06:03.922703",
     "exception": false,
     "start_time": "2021-02-17T13:06:03.833441",
     "status": "completed"
    },
    "tags": []
   },
   "outputs": [
    {
     "data": {
      "text/plain": [
       "PassengerId    891\n",
       "Survived         2\n",
       "Pclass           3\n",
       "Name           891\n",
       "Sex              2\n",
       "Age             88\n",
       "SibSp            7\n",
       "Parch            7\n",
       "Ticket         681\n",
       "Fare           248\n",
       "Cabin          147\n",
       "Embarked         3\n",
       "dtype: int64"
      ]
     },
     "execution_count": 5,
     "metadata": {},
     "output_type": "execute_result"
    }
   ],
   "source": [
    "titanic_train.nunique()"
   ]
  },
  {
   "cell_type": "code",
   "execution_count": 6,
   "metadata": {
    "execution": {
     "iopub.execute_input": "2021-02-17T13:06:04.067773Z",
     "iopub.status.busy": "2021-02-17T13:06:04.066875Z",
     "iopub.status.idle": "2021-02-17T13:06:04.071907Z",
     "shell.execute_reply": "2021-02-17T13:06:04.071231Z"
    },
    "papermill": {
     "duration": 0.081294,
     "end_time": "2021-02-17T13:06:04.072073",
     "exception": false,
     "start_time": "2021-02-17T13:06:03.990779",
     "status": "completed"
    },
    "tags": []
   },
   "outputs": [
    {
     "name": "stdout",
     "output_type": "stream",
     "text": [
      "Int or Flaot Columns :  ['PassengerId', 'Survived', 'Pclass', 'SibSp', 'Parch']\n",
      "Num Cols :  ['Age', 'SibSp', 'Parch', 'Fare']\n",
      "Cat Cols :  ['Pclass', 'Sex', 'Embarked']\n"
     ]
    }
   ],
   "source": [
    "int_or_float = titanic_train.dtypes[titanic_train.dtypes.isin(['int64', 'float64'])].index\n",
    "print(\"Int or Flaot Columns : \", list(int_or_float))\n",
    "num_cols = ['Age', 'SibSp', 'Parch', \"Fare\"]\n",
    "print(\"Num Cols : \", num_cols)\n",
    "cat_cols = ['Pclass', 'Sex', 'Embarked']\n",
    "print(\"Cat Cols : \", cat_cols)"
   ]
  },
  {
   "cell_type": "code",
   "execution_count": 7,
   "metadata": {
    "execution": {
     "iopub.execute_input": "2021-02-17T13:06:04.219823Z",
     "iopub.status.busy": "2021-02-17T13:06:04.218695Z",
     "iopub.status.idle": "2021-02-17T13:06:04.222812Z",
     "shell.execute_reply": "2021-02-17T13:06:04.222026Z"
    },
    "papermill": {
     "duration": 0.083645,
     "end_time": "2021-02-17T13:06:04.222996",
     "exception": false,
     "start_time": "2021-02-17T13:06:04.139351",
     "status": "completed"
    },
    "tags": []
   },
   "outputs": [],
   "source": [
    "train_len = len(titanic_train)\n",
    "combined =  pd.concat(objs=[titanic_train, titanic_test], axis=0).reset_index(drop=True)\n",
    "#combined.tail()"
   ]
  },
  {
   "cell_type": "markdown",
   "metadata": {
    "papermill": {
     "duration": 0.069034,
     "end_time": "2021-02-17T13:06:04.360265",
     "exception": false,
     "start_time": "2021-02-17T13:06:04.291231",
     "status": "completed"
    },
    "tags": []
   },
   "source": [
    "### 2.1) Missing Values"
   ]
  },
  {
   "cell_type": "code",
   "execution_count": 8,
   "metadata": {
    "execution": {
     "iopub.execute_input": "2021-02-17T13:06:04.505095Z",
     "iopub.status.busy": "2021-02-17T13:06:04.504136Z",
     "iopub.status.idle": "2021-02-17T13:06:04.508235Z",
     "shell.execute_reply": "2021-02-17T13:06:04.507580Z"
    },
    "papermill": {
     "duration": 0.082497,
     "end_time": "2021-02-17T13:06:04.508380",
     "exception": false,
     "start_time": "2021-02-17T13:06:04.425883",
     "status": "completed"
    },
    "tags": []
   },
   "outputs": [],
   "source": [
    "def missing_values_details(df):\n",
    "    total = df.isnull().sum()\n",
    "    \n",
    "    missing_df = pd.DataFrame({'count_missing': total}).reset_index().rename(columns={'index':'column_name'})\n",
    "    missing_df['percent_missing'] = missing_df['count_missing']/len(df)\n",
    "    missing_df = missing_df.sort_values(by='count_missing', ascending=False)\n",
    "    missing_df = missing_df[missing_df['count_missing']!=0]\n",
    "    print('Info : {} out of {} columns have mising values'.format(len(missing_df), len(df.columns)))\n",
    "    missing_90 = missing_df[missing_df['percent_missing']>0.9]\n",
    "    missing_80 = missing_df[missing_df['percent_missing']>0.8]\n",
    "    missing_70 = missing_df[missing_df['percent_missing']>0.7]\n",
    "    print(\"Info : {} columns have more that 90% missing values\".format(len(missing_90)))\n",
    "    print(\"Info : {} columns have more that 80% missing values\".format(len(missing_80)))\n",
    "    print(\"Info : {} columns have more that 70% missing values\".format(len(missing_70)))\n",
    "    \n",
    "    return missing_df"
   ]
  },
  {
   "cell_type": "code",
   "execution_count": 9,
   "metadata": {
    "execution": {
     "iopub.execute_input": "2021-02-17T13:06:04.660998Z",
     "iopub.status.busy": "2021-02-17T13:06:04.660204Z",
     "iopub.status.idle": "2021-02-17T13:06:04.700966Z",
     "shell.execute_reply": "2021-02-17T13:06:04.700298Z"
    },
    "papermill": {
     "duration": 0.121252,
     "end_time": "2021-02-17T13:06:04.701126",
     "exception": false,
     "start_time": "2021-02-17T13:06:04.579874",
     "status": "completed"
    },
    "tags": []
   },
   "outputs": [
    {
     "name": "stdout",
     "output_type": "stream",
     "text": [
      "Info : 3 out of 12 columns have mising values\n",
      "Info : 0 columns have more that 90% missing values\n",
      "Info : 0 columns have more that 80% missing values\n",
      "Info : 1 columns have more that 70% missing values\n"
     ]
    },
    {
     "data": {
      "text/html": [
       "<div>\n",
       "<style scoped>\n",
       "    .dataframe tbody tr th:only-of-type {\n",
       "        vertical-align: middle;\n",
       "    }\n",
       "\n",
       "    .dataframe tbody tr th {\n",
       "        vertical-align: top;\n",
       "    }\n",
       "\n",
       "    .dataframe thead th {\n",
       "        text-align: right;\n",
       "    }\n",
       "</style>\n",
       "<table border=\"1\" class=\"dataframe\">\n",
       "  <thead>\n",
       "    <tr style=\"text-align: right;\">\n",
       "      <th></th>\n",
       "      <th>column_name</th>\n",
       "      <th>count_missing</th>\n",
       "      <th>percent_missing</th>\n",
       "    </tr>\n",
       "  </thead>\n",
       "  <tbody>\n",
       "    <tr>\n",
       "      <th>10</th>\n",
       "      <td>Cabin</td>\n",
       "      <td>687</td>\n",
       "      <td>0.771044</td>\n",
       "    </tr>\n",
       "    <tr>\n",
       "      <th>5</th>\n",
       "      <td>Age</td>\n",
       "      <td>177</td>\n",
       "      <td>0.198653</td>\n",
       "    </tr>\n",
       "    <tr>\n",
       "      <th>11</th>\n",
       "      <td>Embarked</td>\n",
       "      <td>2</td>\n",
       "      <td>0.002245</td>\n",
       "    </tr>\n",
       "  </tbody>\n",
       "</table>\n",
       "</div>"
      ],
      "text/plain": [
       "   column_name  count_missing  percent_missing\n",
       "10       Cabin            687         0.771044\n",
       "5          Age            177         0.198653\n",
       "11    Embarked              2         0.002245"
      ]
     },
     "execution_count": 9,
     "metadata": {},
     "output_type": "execute_result"
    }
   ],
   "source": [
    "missing_values_details(titanic_train)"
   ]
  },
  {
   "cell_type": "markdown",
   "metadata": {
    "papermill": {
     "duration": 0.067382,
     "end_time": "2021-02-17T13:06:04.838970",
     "exception": false,
     "start_time": "2021-02-17T13:06:04.771588",
     "status": "completed"
    },
    "tags": []
   },
   "source": [
    "### 2.2) Check for class balance"
   ]
  },
  {
   "cell_type": "code",
   "execution_count": 10,
   "metadata": {
    "execution": {
     "iopub.execute_input": "2021-02-17T13:06:04.986060Z",
     "iopub.status.busy": "2021-02-17T13:06:04.985303Z",
     "iopub.status.idle": "2021-02-17T13:06:04.989374Z",
     "shell.execute_reply": "2021-02-17T13:06:04.988840Z"
    },
    "papermill": {
     "duration": 0.082482,
     "end_time": "2021-02-17T13:06:04.989552",
     "exception": false,
     "start_time": "2021-02-17T13:06:04.907070",
     "status": "completed"
    },
    "tags": []
   },
   "outputs": [],
   "source": [
    "def check_class_balance(df, target_col):\n",
    "    counts = df[target_col].value_counts()\n",
    "    class_df = pd.DataFrame(counts).reset_index().rename(columns={target_col:'counts', 'index':'class'})\n",
    "    class_df.plot.bar(x='class', y='counts')\n",
    "    print('Info : There are {} classes in the target column'.format(len(class_df)))\n",
    "    max_class = class_df['counts'].max() \n",
    "    min_class = class_df['counts'].min()\n",
    "    max_diff = max_class - min_class\n",
    "    print(\"Info : Maximum difference between 2 classes is {} observations that is {} times w.r.t. minimum class\".format(max_diff, (max_diff/min_class)))\n",
    "    return class_df"
   ]
  },
  {
   "cell_type": "code",
   "execution_count": 11,
   "metadata": {
    "execution": {
     "iopub.execute_input": "2021-02-17T13:06:05.136002Z",
     "iopub.status.busy": "2021-02-17T13:06:05.135264Z",
     "iopub.status.idle": "2021-02-17T13:06:05.357903Z",
     "shell.execute_reply": "2021-02-17T13:06:05.358474Z"
    },
    "papermill": {
     "duration": 0.299029,
     "end_time": "2021-02-17T13:06:05.358689",
     "exception": false,
     "start_time": "2021-02-17T13:06:05.059660",
     "status": "completed"
    },
    "tags": []
   },
   "outputs": [
    {
     "name": "stdout",
     "output_type": "stream",
     "text": [
      "Info : There are 2 classes in the target column\n",
      "Info : Maximum difference between 2 classes is 207 observations that is 0.6052631578947368 times w.r.t. minimum class\n"
     ]
    },
    {
     "data": {
      "text/html": [
       "<div>\n",
       "<style scoped>\n",
       "    .dataframe tbody tr th:only-of-type {\n",
       "        vertical-align: middle;\n",
       "    }\n",
       "\n",
       "    .dataframe tbody tr th {\n",
       "        vertical-align: top;\n",
       "    }\n",
       "\n",
       "    .dataframe thead th {\n",
       "        text-align: right;\n",
       "    }\n",
       "</style>\n",
       "<table border=\"1\" class=\"dataframe\">\n",
       "  <thead>\n",
       "    <tr style=\"text-align: right;\">\n",
       "      <th></th>\n",
       "      <th>class</th>\n",
       "      <th>counts</th>\n",
       "    </tr>\n",
       "  </thead>\n",
       "  <tbody>\n",
       "    <tr>\n",
       "      <th>0</th>\n",
       "      <td>0</td>\n",
       "      <td>549</td>\n",
       "    </tr>\n",
       "    <tr>\n",
       "      <th>1</th>\n",
       "      <td>1</td>\n",
       "      <td>342</td>\n",
       "    </tr>\n",
       "  </tbody>\n",
       "</table>\n",
       "</div>"
      ],
      "text/plain": [
       "   class  counts\n",
       "0      0     549\n",
       "1      1     342"
      ]
     },
     "execution_count": 11,
     "metadata": {},
     "output_type": "execute_result"
    },
    {
     "data": {
      "image/png": "[encoded data removed]",
      "text/plain": [
       "<Figure size 432x288 with 1 Axes>"
      ]
     },
     "metadata": {
      "needs_background": "light"
     },
     "output_type": "display_data"
    }
   ],
   "source": [
    "check_class_balance(titanic_train, 'Survived')"
   ]
  },
  {
   "cell_type": "markdown",
   "metadata": {
    "papermill": {
     "duration": 0.069612,
     "end_time": "2021-02-17T13:06:05.503483",
     "exception": false,
     "start_time": "2021-02-17T13:06:05.433871",
     "status": "completed"
    },
    "tags": []
   },
   "source": [
    "### 2.3) Outliers"
   ]
  },
  {
   "cell_type": "code",
   "execution_count": 12,
   "metadata": {
    "execution": {
     "iopub.execute_input": "2021-02-17T13:06:05.653469Z",
     "iopub.status.busy": "2021-02-17T13:06:05.652735Z",
     "iopub.status.idle": "2021-02-17T13:06:05.670243Z",
     "shell.execute_reply": "2021-02-17T13:06:05.669528Z"
    },
    "papermill": {
     "duration": 0.096786,
     "end_time": "2021-02-17T13:06:05.670430",
     "exception": false,
     "start_time": "2021-02-17T13:06:05.573644",
     "status": "completed"
    },
    "tags": []
   },
   "outputs": [
    {
     "name": "stdout",
     "output_type": "stream",
     "text": [
      "10\n"
     ]
    }
   ],
   "source": [
    "def detect_outliers(df,n,features):\n",
    "    outlier_indices = []\n",
    "    # iterate over features(columns)\n",
    "    for col in features:\n",
    "        Q1 = np.percentile(df[col], 25)\n",
    "        Q3 = np.percentile(df[col],75)\n",
    "        IQR = Q3 - Q1\n",
    "        \n",
    "        outlier_step = 1.5 * IQR\n",
    "        outlier_list_col = df[(df[col] < Q1 - outlier_step) | (df[col] > Q3 + outlier_step )].index\n",
    "        outlier_indices.extend(outlier_list_col)\n",
    "    outlier_indices = Counter(outlier_indices)        \n",
    "    multiple_outliers = list( k for k, v in outlier_indices.items() if v > n )\n",
    "    \n",
    "    return multiple_outliers   \n",
    "\n",
    "# detect outliers from num_cols\n",
    "outliers_rows = detect_outliers(titanic_train,2,num_cols)\n",
    "print(len(outliers_rows))\n",
    "# Drop outliers\n",
    "titanic_train = titanic_train.drop(outliers_rows, axis = 0).reset_index(drop=True)"
   ]
  },
  {
   "cell_type": "markdown",
   "metadata": {
    "papermill": {
     "duration": 0.071144,
     "end_time": "2021-02-17T13:06:05.814423",
     "exception": false,
     "start_time": "2021-02-17T13:06:05.743279",
     "status": "completed"
    },
    "tags": []
   },
   "source": [
    "## <p style=\"background-color:skyblue; font-family:newtimeroman; font-size:180%; text-align:center\">3. Feature Engineering</p>"
   ]
  },
  {
   "cell_type": "markdown",
   "metadata": {
    "papermill": {
     "duration": 0.067988,
     "end_time": "2021-02-17T13:06:05.951356",
     "exception": false,
     "start_time": "2021-02-17T13:06:05.883368",
     "status": "completed"
    },
    "tags": []
   },
   "source": [
    "### 3.1) Numerical columns"
   ]
  },
  {
   "cell_type": "code",
   "execution_count": 13,
   "metadata": {
    "execution": {
     "iopub.execute_input": "2021-02-17T13:06:06.106975Z",
     "iopub.status.busy": "2021-02-17T13:06:06.106246Z",
     "iopub.status.idle": "2021-02-17T13:06:06.109783Z",
     "shell.execute_reply": "2021-02-17T13:06:06.110275Z"
    },
    "papermill": {
     "duration": 0.087096,
     "end_time": "2021-02-17T13:06:06.110479",
     "exception": false,
     "start_time": "2021-02-17T13:06:06.023383",
     "status": "completed"
    },
    "tags": []
   },
   "outputs": [],
   "source": [
    "def describe_num_col(train, col):\n",
    "    #### This function provides detailed comparison of a numerical varible\n",
    "    ### missing value\n",
    "    count_train = train[col].isnull().sum()\n",
    "    #print(\"######    Variable Name : {}    ######\".format(col))\n",
    "    \n",
    "    #### Skewness and Kurtosis\n",
    "    train_k = stats.kurtosis(train[col].dropna(), bias=False)\n",
    "    \n",
    "    train_s = stats.skew(train[col].dropna(), bias=False)\n",
    "    \n",
    "    #### Outliers\n",
    "    \n",
    "    def count_outliers(df, col):\n",
    "        mean_d = np.mean(df[col])\n",
    "        std_d = np.std(df[col])\n",
    "        \n",
    "        scaled = (df[col]-mean_d)/std_d\n",
    "        outliers = abs(scaled) > 3\n",
    "        if len(outliers.value_counts()) > 1:\n",
    "            return outliers.value_counts()[1]\n",
    "        else:\n",
    "            return 0   \n",
    "    \n",
    "    train_o = count_outliers(train, col)\n",
    "        \n",
    "    summ_df = pd.DataFrame({'info':['missing_count', 'missing_percent', 'skewness', 'kurtosis', 'outlier_count', 'outlier_percent'],\n",
    "                           'train_set':[count_train, (count_train/len(train))*100, train_s, train_k, train_o, (train_o/len(train))*100]})\n",
    "    \n",
    "#     print(\"######    Summary Data\")\n",
    "#     display(summ_df)\n",
    "    \n",
    "    #print(\"######    Distribution and Outliers comparision plots\")\n",
    "    \n",
    "    fig, (ax1, ax2) = plt.subplots(nrows=1, ncols=2, figsize=(10, 6))\n",
    "    \n",
    "    plot10 = sns.distplot(train[train['Survived']==0][col],ax=ax1, label='Not Survived')\n",
    "    sns.distplot(train[train['Survived']==1][col],ax=ax1,color='red', label='Survived')\n",
    "    plot10.axes.legend()\n",
    "    ax1.set_title('Distribution of {name}'.format(name=col))\n",
    "    \n",
    "    sns.boxplot(x='Survived',y=col,data=train,ax=ax2)\n",
    "    #plt.xticks(ticks=[0,1],labels=['Non-Diabetes','Diabetes'])\n",
    "    ax2.set_xlabel('Category') \n",
    "    ax2.set_title('Boxplot of {name}'.format(name=col))\n",
    "    \n",
    "    \n",
    "    fig.show()    \n",
    "    \n",
    "    return"
   ]
  },
  {
   "cell_type": "code",
   "execution_count": 14,
   "metadata": {
    "execution": {
     "iopub.execute_input": "2021-02-17T13:06:06.261289Z",
     "iopub.status.busy": "2021-02-17T13:06:06.260279Z",
     "iopub.status.idle": "2021-02-17T13:06:08.620852Z",
     "shell.execute_reply": "2021-02-17T13:06:08.620165Z"
    },
    "papermill": {
     "duration": 2.440016,
     "end_time": "2021-02-17T13:06:08.621001",
     "exception": false,
     "start_time": "2021-02-17T13:06:06.180985",
     "status": "completed"
    },
    "tags": []
   },
   "outputs": [
    {
     "data": {
      "image/png": "[encoded data removed]",
      "text/plain": [
       "<Figure size 720x432 with 2 Axes>"
      ]
     },
     "metadata": {
      "needs_background": "light"
     },
     "output_type": "display_data"
    },
    {
     "data": {
      "image/png": "[encoded data removed]",
      "text/plain": [
       "<Figure size 720x432 with 2 Axes>"
      ]
     },
     "metadata": {
      "needs_background": "light"
     },
     "output_type": "display_data"
    },
    {
     "data": {
      "image/png": "[encoded data removed]",
      "text/plain": [
       "<Figure size 720x432 with 2 Axes>"
      ]
     },
     "metadata": {
      "needs_background": "light"
     },
     "output_type": "display_data"
    },
    {
     "data": {
      "image/png": "[encoded data removed]",
      "text/plain": [
       "<Figure size 720x432 with 2 Axes>"
      ]
     },
     "metadata": {
      "needs_background": "light"
     },
     "output_type": "display_data"
    }
   ],
   "source": [
    "for col in num_cols:\n",
    "    describe_num_col(titanic_train, col)"
   ]
  },
  {
   "cell_type": "code",
   "execution_count": 15,
   "metadata": {
    "execution": {
     "iopub.execute_input": "2021-02-17T13:06:08.786578Z",
     "iopub.status.busy": "2021-02-17T13:06:08.785778Z",
     "iopub.status.idle": "2021-02-17T13:06:08.789252Z",
     "shell.execute_reply": "2021-02-17T13:06:08.788658Z"
    },
    "papermill": {
     "duration": 0.08898,
     "end_time": "2021-02-17T13:06:08.789401",
     "exception": false,
     "start_time": "2021-02-17T13:06:08.700421",
     "status": "completed"
    },
    "tags": []
   },
   "outputs": [],
   "source": [
    "### The column Fare is continuous and it is right skewed\n",
    "# Apply log transformation to Fare to reduce skewness distribution\n",
    "combined[\"Fare\"] = combined[\"Fare\"].map(lambda i: np.log(i) if i > 0 else 0)"
   ]
  },
  {
   "cell_type": "markdown",
   "metadata": {
    "papermill": {
     "duration": 0.074792,
     "end_time": "2021-02-17T13:06:08.941570",
     "exception": false,
     "start_time": "2021-02-17T13:06:08.866778",
     "status": "completed"
    },
    "tags": []
   },
   "source": [
    "### 3.2) Catrgorical columns"
   ]
  },
  {
   "cell_type": "code",
   "execution_count": 16,
   "metadata": {
    "execution": {
     "iopub.execute_input": "2021-02-17T13:06:09.111929Z",
     "iopub.status.busy": "2021-02-17T13:06:09.110953Z",
     "iopub.status.idle": "2021-02-17T13:06:09.115312Z",
     "shell.execute_reply": "2021-02-17T13:06:09.114524Z"
    },
    "papermill": {
     "duration": 0.097505,
     "end_time": "2021-02-17T13:06:09.115505",
     "exception": false,
     "start_time": "2021-02-17T13:06:09.018000",
     "status": "completed"
    },
    "tags": []
   },
   "outputs": [],
   "source": [
    "def describe_cat_col(df, col):\n",
    "    ### unique values\n",
    "    count_u = df[col].nunique()\n",
    "    #print(\"Info : There are {} unique values\".format(count_u))\n",
    "    nulls = df[col].isnull().sum()\n",
    "    #print(\"Info : There are {} missing values that is {} percent\".format(nulls, nulls/len(df)))\n",
    "    \n",
    "    ### Percent share df\n",
    "    share_df = pd.DataFrame(df[col].value_counts()).reset_index().rename(columns={'index':'class_name',col:'counts'})\n",
    "    share_df['percent_share'] = share_df['counts']/sum(share_df['counts'])\n",
    "    share_df = share_df.sort_values(by='percent_share', ascending=False)\n",
    "    #display(share_df)\n",
    "        \n",
    "        \n",
    "    if (count_u > 3 and count_u < 10):\n",
    "        fig, ax  = plt.subplots()\n",
    "        fig.suptitle(col + ' Distribution', color = 'red')\n",
    "        explode = list((np.array(list(df[col].dropna().value_counts()))/sum(list(df[col].dropna().value_counts())))[::-1])\n",
    "        labels = list(df[col].dropna().unique())\n",
    "        sizes = df[col].value_counts()\n",
    "        #ax.pie(sizes, explode=explode, colors=bo, startangle=60, labels=labels,autopct='%1.0f%%', pctdistance=0.9)\n",
    "        ax.pie(sizes,  explode=explode, startangle=60, labels=labels,autopct='%1.0f%%', pctdistance=0.9)\n",
    "        ax.add_artist(plt.Circle((0,0),0.2,fc='white'))\n",
    "        plt.show()\n",
    "    \n",
    "    else:\n",
    "        plt.figure()\n",
    "        plt.title(col + ' Distribution', color = 'red')\n",
    "        sns.barplot(x=col,y='Survived', data = df)\n",
    "        plt.show()\n",
    "        \n",
    "    return"
   ]
  },
  {
   "cell_type": "code",
   "execution_count": 17,
   "metadata": {
    "execution": {
     "iopub.execute_input": "2021-02-17T13:06:09.297918Z",
     "iopub.status.busy": "2021-02-17T13:06:09.293796Z",
     "iopub.status.idle": "2021-02-17T13:06:10.084722Z",
     "shell.execute_reply": "2021-02-17T13:06:10.083939Z"
    },
    "papermill": {
     "duration": 0.891643,
     "end_time": "2021-02-17T13:06:10.084894",
     "exception": false,
     "start_time": "2021-02-17T13:06:09.193251",
     "status": "completed"
    },
    "tags": []
   },
   "outputs": [
    {
     "data": {
      "image/png": "[encoded data removed]",
      "text/plain": [
       "<Figure size 432x288 with 1 Axes>"
      ]
     },
     "metadata": {
      "needs_background": "light"
     },
     "output_type": "display_data"
    },
    {
     "data": {
      "image/png": "[encoded data removed]",
      "text/plain": [
       "<Figure size 432x288 with 1 Axes>"
      ]
     },
     "metadata": {
      "needs_background": "light"
     },
     "output_type": "display_data"
    },
    {
     "data": {
      "image/png": "[encoded data removed]",
      "text/plain": [
       "<Figure size 432x288 with 1 Axes>"
      ]
     },
     "metadata": {
      "needs_background": "light"
     },
     "output_type": "display_data"
    }
   ],
   "source": [
    "for col in cat_cols:\n",
    "    #print(\"Column Name : {}\".format(col))\n",
    "    describe_cat_col(titanic_train, col)"
   ]
  },
  {
   "cell_type": "markdown",
   "metadata": {
    "papermill": {
     "duration": 0.082139,
     "end_time": "2021-02-17T13:06:10.252848",
     "exception": false,
     "start_time": "2021-02-17T13:06:10.170709",
     "status": "completed"
    },
    "tags": []
   },
   "source": [
    "### 3.3) Filling the missing values\n",
    "3.3.1 - Embarked"
   ]
  },
  {
   "cell_type": "code",
   "execution_count": 18,
   "metadata": {
    "execution": {
     "iopub.execute_input": "2021-02-17T13:06:10.422861Z",
     "iopub.status.busy": "2021-02-17T13:06:10.422145Z",
     "iopub.status.idle": "2021-02-17T13:06:10.427083Z",
     "shell.execute_reply": "2021-02-17T13:06:10.426529Z"
    },
    "papermill": {
     "duration": 0.093426,
     "end_time": "2021-02-17T13:06:10.427228",
     "exception": false,
     "start_time": "2021-02-17T13:06:10.333802",
     "status": "completed"
    },
    "tags": []
   },
   "outputs": [
    {
     "data": {
      "text/plain": [
       "0"
      ]
     },
     "execution_count": 18,
     "metadata": {},
     "output_type": "execute_result"
    }
   ],
   "source": [
    "#### Filling the Embarked column with mode\n",
    "combined['Embarked'] = combined['Embarked'].fillna(combined['Embarked'].value_counts().index[0])\n",
    "combined['Embarked'].isnull().sum()"
   ]
  },
  {
   "cell_type": "code",
   "execution_count": 19,
   "metadata": {
    "execution": {
     "iopub.execute_input": "2021-02-17T13:06:10.602046Z",
     "iopub.status.busy": "2021-02-17T13:06:10.601008Z",
     "iopub.status.idle": "2021-02-17T13:06:10.609621Z",
     "shell.execute_reply": "2021-02-17T13:06:10.610083Z"
    },
    "papermill": {
     "duration": 0.102513,
     "end_time": "2021-02-17T13:06:10.610268",
     "exception": false,
     "start_time": "2021-02-17T13:06:10.507755",
     "status": "completed"
    },
    "tags": []
   },
   "outputs": [],
   "source": [
    "combined = pd.get_dummies(combined, columns = [\"Embarked\"], prefix=\"Em\")"
   ]
  },
  {
   "cell_type": "markdown",
   "metadata": {
    "papermill": {
     "duration": 0.086864,
     "end_time": "2021-02-17T13:06:10.775190",
     "exception": false,
     "start_time": "2021-02-17T13:06:10.688326",
     "status": "completed"
    },
    "tags": []
   },
   "source": [
    "3.3.2 Age\n",
    "\n",
    "[Reference](https://www.kaggle.com/yassineghouzam/titanic-top-4-with-ensemble-modeling)"
   ]
  },
  {
   "cell_type": "code",
   "execution_count": 20,
   "metadata": {
    "execution": {
     "iopub.execute_input": "2021-02-17T13:06:10.945806Z",
     "iopub.status.busy": "2021-02-17T13:06:10.944774Z",
     "iopub.status.idle": "2021-02-17T13:06:12.530874Z",
     "shell.execute_reply": "2021-02-17T13:06:12.529802Z"
    },
    "papermill": {
     "duration": 1.66979,
     "end_time": "2021-02-17T13:06:12.531047",
     "exception": false,
     "start_time": "2021-02-17T13:06:10.861257",
     "status": "completed"
    },
    "tags": []
   },
   "outputs": [
    {
     "data": {
      "image/png": "[encoded data removed]",
      "text/plain": [
       "<Figure size 360x360 with 1 Axes>"
      ]
     },
     "metadata": {
      "needs_background": "light"
     },
     "output_type": "display_data"
    },
    {
     "data": {
      "image/png": "[encoded data removed]",
      "text/plain": [
       "<Figure size 402.375x360 with 1 Axes>"
      ]
     },
     "metadata": {
      "needs_background": "light"
     },
     "output_type": "display_data"
    },
    {
     "data": {
      "image/png": "[encoded data removed]",
      "text/plain": [
       "<Figure size 360x360 with 1 Axes>"
      ]
     },
     "metadata": {
      "needs_background": "light"
     },
     "output_type": "display_data"
    },
    {
     "data": {
      "image/png": "[encoded data removed]",
      "text/plain": [
       "<Figure size 360x360 with 1 Axes>"
      ]
     },
     "metadata": {
      "needs_background": "light"
     },
     "output_type": "display_data"
    }
   ],
   "source": [
    "# Explore Age vs Sex, Parch , Pclass and SibSP\n",
    "g = sns.factorplot(y=\"Age\",x=\"Sex\",data=combined,kind=\"box\")\n",
    "g = sns.factorplot(y=\"Age\",x=\"Sex\",hue=\"Pclass\", data=combined,kind=\"box\")\n",
    "g = sns.factorplot(y=\"Age\",x=\"Parch\", data=combined,kind=\"box\")\n",
    "g = sns.factorplot(y=\"Age\",x=\"SibSp\", data=combined,kind=\"box\")"
   ]
  },
  {
   "cell_type": "markdown",
   "metadata": {
    "papermill": {
     "duration": 0.08533,
     "end_time": "2021-02-17T13:06:12.703400",
     "exception": false,
     "start_time": "2021-02-17T13:06:12.618070",
     "status": "completed"
    },
    "tags": []
   },
   "source": [
    "Age distribution seems to be the same in Male and Female subpopulations, so Sex is not informative to predict Age.\n",
    "\n",
    "However, 1st class passengers are older than 2nd class passengers who are also older than 3rd class passengers.\n",
    "\n",
    "Moreover, the more a passenger has parents/children the older he is and the more a passenger has siblings/spouses the younger he is."
   ]
  },
  {
   "cell_type": "code",
   "execution_count": 21,
   "metadata": {
    "execution": {
     "iopub.execute_input": "2021-02-17T13:06:12.908193Z",
     "iopub.status.busy": "2021-02-17T13:06:12.906549Z",
     "iopub.status.idle": "2021-02-17T13:06:13.670706Z",
     "shell.execute_reply": "2021-02-17T13:06:13.670045Z"
    },
    "papermill": {
     "duration": 0.884554,
     "end_time": "2021-02-17T13:06:13.671162",
     "exception": false,
     "start_time": "2021-02-17T13:06:12.786608",
     "status": "completed"
    },
    "tags": []
   },
   "outputs": [],
   "source": [
    "# convert Sex into categorical value 0 for male and 1 for female\n",
    "combined[\"Sex\"] = combined[\"Sex\"].map({\"male\": 0, \"female\":1})\n",
    "\n",
    "# Filling missing value of Age \n",
    "\n",
    "## Fill Age with the median age of similar rows according to Pclass, Parch and SibSp\n",
    "# Index of NaN age rows\n",
    "index_NaN_age = list(combined[\"Age\"][combined[\"Age\"].isnull()].index)\n",
    "\n",
    "for i in index_NaN_age :\n",
    "    age_med = combined[\"Age\"].median()\n",
    "    age_pred = combined[\"Age\"][((combined['SibSp'] == combined.iloc[i][\"SibSp\"]) & (combined['Parch'] == combined.iloc[i][\"Parch\"]) & (combined['Pclass'] == combined.iloc[i][\"Pclass\"]))].median()\n",
    "    if not np.isnan(age_pred) :\n",
    "        combined['Age'].iloc[i] = age_pred\n",
    "    else :\n",
    "        combined['Age'].iloc[i] = age_med"
   ]
  },
  {
   "cell_type": "markdown",
   "metadata": {
    "papermill": {
     "duration": 0.082268,
     "end_time": "2021-02-17T13:06:13.841683",
     "exception": false,
     "start_time": "2021-02-17T13:06:13.759415",
     "status": "completed"
    },
    "tags": []
   },
   "source": [
    "3.3.3 Cabin"
   ]
  },
  {
   "cell_type": "code",
   "execution_count": 22,
   "metadata": {
    "execution": {
     "iopub.execute_input": "2021-02-17T13:06:14.015439Z",
     "iopub.status.busy": "2021-02-17T13:06:14.014225Z",
     "iopub.status.idle": "2021-02-17T13:06:14.019923Z",
     "shell.execute_reply": "2021-02-17T13:06:14.019291Z"
    },
    "papermill": {
     "duration": 0.095573,
     "end_time": "2021-02-17T13:06:14.020076",
     "exception": false,
     "start_time": "2021-02-17T13:06:13.924503",
     "status": "completed"
    },
    "tags": []
   },
   "outputs": [
    {
     "data": {
      "text/plain": [
       "count             295\n",
       "unique            186\n",
       "top       C23 C25 C27\n",
       "freq                6\n",
       "Name: Cabin, dtype: object"
      ]
     },
     "execution_count": 22,
     "metadata": {},
     "output_type": "execute_result"
    }
   ],
   "source": [
    "combined['Cabin'].describe()"
   ]
  },
  {
   "cell_type": "code",
   "execution_count": 23,
   "metadata": {
    "execution": {
     "iopub.execute_input": "2021-02-17T13:06:14.210100Z",
     "iopub.status.busy": "2021-02-17T13:06:14.209020Z",
     "iopub.status.idle": "2021-02-17T13:06:14.212562Z",
     "shell.execute_reply": "2021-02-17T13:06:14.213284Z"
    },
    "papermill": {
     "duration": 0.104926,
     "end_time": "2021-02-17T13:06:14.213508",
     "exception": false,
     "start_time": "2021-02-17T13:06:14.108582",
     "status": "completed"
    },
    "tags": []
   },
   "outputs": [],
   "source": [
    "# Replace the Cabin number by the type of cabin 'X' if not\n",
    "combined[\"Cabin\"] = pd.Series([i[0] if not pd.isnull(i) else 'X' for i in combined['Cabin'] ])"
   ]
  },
  {
   "cell_type": "code",
   "execution_count": 24,
   "metadata": {
    "execution": {
     "iopub.execute_input": "2021-02-17T13:06:14.405257Z",
     "iopub.status.busy": "2021-02-17T13:06:14.404231Z",
     "iopub.status.idle": "2021-02-17T13:06:14.407618Z",
     "shell.execute_reply": "2021-02-17T13:06:14.406932Z"
    },
    "papermill": {
     "duration": 0.102805,
     "end_time": "2021-02-17T13:06:14.407772",
     "exception": false,
     "start_time": "2021-02-17T13:06:14.304967",
     "status": "completed"
    },
    "tags": []
   },
   "outputs": [],
   "source": [
    "combined = pd.get_dummies(combined, columns = [\"Cabin\"],prefix=\"Cabin\")"
   ]
  },
  {
   "cell_type": "markdown",
   "metadata": {
    "papermill": {
     "duration": 0.087215,
     "end_time": "2021-02-17T13:06:14.584401",
     "exception": false,
     "start_time": "2021-02-17T13:06:14.497186",
     "status": "completed"
    },
    "tags": []
   },
   "source": [
    "### 3.4) Feature Transformation\n",
    "\n",
    "3.4.1 Name -> Title"
   ]
  },
  {
   "cell_type": "code",
   "execution_count": 25,
   "metadata": {
    "execution": {
     "iopub.execute_input": "2021-02-17T13:06:14.762787Z",
     "iopub.status.busy": "2021-02-17T13:06:14.760648Z",
     "iopub.status.idle": "2021-02-17T13:06:14.767650Z",
     "shell.execute_reply": "2021-02-17T13:06:14.766940Z"
    },
    "papermill": {
     "duration": 0.099525,
     "end_time": "2021-02-17T13:06:14.767808",
     "exception": false,
     "start_time": "2021-02-17T13:06:14.668283",
     "status": "completed"
    },
    "tags": []
   },
   "outputs": [
    {
     "data": {
      "text/plain": [
       "0      Mr\n",
       "1     Mrs\n",
       "2    Miss\n",
       "3     Mrs\n",
       "4      Mr\n",
       "Name: Title, dtype: object"
      ]
     },
     "execution_count": 25,
     "metadata": {},
     "output_type": "execute_result"
    }
   ],
   "source": [
    "# Get Title from Name\n",
    "combined_title = [i.split(\",\")[1].split(\".\")[0].strip() for i in combined[\"Name\"]]\n",
    "combined[\"Title\"] = pd.Series(combined_title)\n",
    "combined[\"Title\"].head()"
   ]
  },
  {
   "cell_type": "code",
   "execution_count": 26,
   "metadata": {
    "execution": {
     "iopub.execute_input": "2021-02-17T13:06:14.948461Z",
     "iopub.status.busy": "2021-02-17T13:06:14.947728Z",
     "iopub.status.idle": "2021-02-17T13:06:14.951108Z",
     "shell.execute_reply": "2021-02-17T13:06:14.950283Z"
    },
    "papermill": {
     "duration": 0.101363,
     "end_time": "2021-02-17T13:06:14.951276",
     "exception": false,
     "start_time": "2021-02-17T13:06:14.849913",
     "status": "completed"
    },
    "tags": []
   },
   "outputs": [],
   "source": [
    "# Convert to categorical values Title \n",
    "combined[\"Title\"] = combined[\"Title\"].replace(['Lady', 'the Countess','Countess','Capt', 'Col','Don', 'Dr', 'Major', 'Rev', 'Sir', 'Jonkheer', 'Dona'], 'Rare')\n",
    "combined[\"Title\"] = combined[\"Title\"].map({\"Master\":0, \"Miss\":1, \"Ms\" : 1 , \"Mme\":1, \"Mlle\":1, \"Mrs\":1, \"Mr\":2, \"Rare\":3})\n",
    "combined[\"Title\"] = combined[\"Title\"].astype(int)"
   ]
  },
  {
   "cell_type": "code",
   "execution_count": 27,
   "metadata": {
    "execution": {
     "iopub.execute_input": "2021-02-17T13:06:15.126191Z",
     "iopub.status.busy": "2021-02-17T13:06:15.125233Z",
     "iopub.status.idle": "2021-02-17T13:06:15.587693Z",
     "shell.execute_reply": "2021-02-17T13:06:15.586968Z"
    },
    "papermill": {
     "duration": 0.552679,
     "end_time": "2021-02-17T13:06:15.587862",
     "exception": false,
     "start_time": "2021-02-17T13:06:15.035183",
     "status": "completed"
    },
    "tags": []
   },
   "outputs": [
    {
     "data": {
      "image/png": "[encoded data removed]",
      "text/plain": [
       "<Figure size 360x360 with 1 Axes>"
      ]
     },
     "metadata": {
      "needs_background": "light"
     },
     "output_type": "display_data"
    }
   ],
   "source": [
    "g = sns.factorplot(x=\"Title\",y=\"Survived\",data=combined,kind=\"bar\")\n",
    "g = g.set_xticklabels([\"Master\",\"Miss-Mrs\",\"Mr\",\"Rare\"])\n",
    "g = g.set_ylabels(\"survival probability\")"
   ]
  },
  {
   "cell_type": "code",
   "execution_count": 28,
   "metadata": {
    "execution": {
     "iopub.execute_input": "2021-02-17T13:06:15.788247Z",
     "iopub.status.busy": "2021-02-17T13:06:15.787522Z",
     "iopub.status.idle": "2021-02-17T13:06:15.790878Z",
     "shell.execute_reply": "2021-02-17T13:06:15.790288Z"
    },
    "papermill": {
     "duration": 0.106159,
     "end_time": "2021-02-17T13:06:15.791040",
     "exception": false,
     "start_time": "2021-02-17T13:06:15.684881",
     "status": "completed"
    },
    "tags": []
   },
   "outputs": [],
   "source": [
    "# Drop Name variable\n",
    "combined.drop(labels = [\"Name\"], axis = 1, inplace = True)"
   ]
  },
  {
   "cell_type": "markdown",
   "metadata": {
    "papermill": {
     "duration": 0.089465,
     "end_time": "2021-02-17T13:06:15.972159",
     "exception": false,
     "start_time": "2021-02-17T13:06:15.882694",
     "status": "completed"
    },
    "tags": []
   },
   "source": [
    "3.4.2 Ticket"
   ]
  },
  {
   "cell_type": "code",
   "execution_count": 29,
   "metadata": {
    "execution": {
     "iopub.execute_input": "2021-02-17T13:06:16.155415Z",
     "iopub.status.busy": "2021-02-17T13:06:16.154713Z",
     "iopub.status.idle": "2021-02-17T13:06:16.160255Z",
     "shell.execute_reply": "2021-02-17T13:06:16.159582Z"
    },
    "papermill": {
     "duration": 0.101838,
     "end_time": "2021-02-17T13:06:16.160408",
     "exception": false,
     "start_time": "2021-02-17T13:06:16.058570",
     "status": "completed"
    },
    "tags": []
   },
   "outputs": [
    {
     "data": {
      "text/plain": [
       "0        A5\n",
       "1        PC\n",
       "2    STONO2\n",
       "3         X\n",
       "4         X\n",
       "Name: Ticket, dtype: object"
      ]
     },
     "execution_count": 29,
     "metadata": {},
     "output_type": "execute_result"
    }
   ],
   "source": [
    "## Treat Ticket by extracting the ticket prefix. When there is no prefix it returns X. \n",
    "\n",
    "Ticket = []\n",
    "for i in list(combined.Ticket):\n",
    "    if not i.isdigit() :\n",
    "        Ticket.append(i.replace(\".\",\"\").replace(\"/\",\"\").strip().split(' ')[0]) #Take prefix\n",
    "    else:\n",
    "        Ticket.append(\"X\")\n",
    "        \n",
    "combined[\"Ticket\"] = Ticket\n",
    "combined[\"Ticket\"].head()"
   ]
  },
  {
   "cell_type": "code",
   "execution_count": 30,
   "metadata": {
    "execution": {
     "iopub.execute_input": "2021-02-17T13:06:16.345621Z",
     "iopub.status.busy": "2021-02-17T13:06:16.343016Z",
     "iopub.status.idle": "2021-02-17T13:06:16.349472Z",
     "shell.execute_reply": "2021-02-17T13:06:16.348873Z"
    },
    "papermill": {
     "duration": 0.10037,
     "end_time": "2021-02-17T13:06:16.349629",
     "exception": false,
     "start_time": "2021-02-17T13:06:16.249259",
     "status": "completed"
    },
    "tags": []
   },
   "outputs": [],
   "source": [
    "combined = pd.get_dummies(combined, columns = [\"Ticket\"], prefix=\"T\")"
   ]
  },
  {
   "cell_type": "markdown",
   "metadata": {
    "papermill": {
     "duration": 0.085066,
     "end_time": "2021-02-17T13:06:16.520651",
     "exception": false,
     "start_time": "2021-02-17T13:06:16.435585",
     "status": "completed"
    },
    "tags": []
   },
   "source": [
    "3.4.2 Pclass"
   ]
  },
  {
   "cell_type": "code",
   "execution_count": 31,
   "metadata": {
    "execution": {
     "iopub.execute_input": "2021-02-17T13:06:16.699602Z",
     "iopub.status.busy": "2021-02-17T13:06:16.698889Z",
     "iopub.status.idle": "2021-02-17T13:06:16.707097Z",
     "shell.execute_reply": "2021-02-17T13:06:16.707653Z"
    },
    "papermill": {
     "duration": 0.100881,
     "end_time": "2021-02-17T13:06:16.707843",
     "exception": false,
     "start_time": "2021-02-17T13:06:16.606962",
     "status": "completed"
    },
    "tags": []
   },
   "outputs": [],
   "source": [
    "# Create categorical values for Pclass\n",
    "combined[\"Pclass\"] = combined[\"Pclass\"].astype(\"category\")\n",
    "combined = pd.get_dummies(combined, columns = [\"Pclass\"],prefix=\"Pc\")"
   ]
  },
  {
   "cell_type": "code",
   "execution_count": 32,
   "metadata": {
    "execution": {
     "iopub.execute_input": "2021-02-17T13:06:16.882482Z",
     "iopub.status.busy": "2021-02-17T13:06:16.881731Z",
     "iopub.status.idle": "2021-02-17T13:06:16.887719Z",
     "shell.execute_reply": "2021-02-17T13:06:16.888231Z"
    },
    "papermill": {
     "duration": 0.096566,
     "end_time": "2021-02-17T13:06:16.888422",
     "exception": false,
     "start_time": "2021-02-17T13:06:16.791856",
     "status": "completed"
    },
    "tags": []
   },
   "outputs": [],
   "source": [
    "# Drop useless variables \n",
    "combined.drop(labels = [\"PassengerId\"], axis = 1, inplace = True)"
   ]
  },
  {
   "cell_type": "markdown",
   "metadata": {
    "papermill": {
     "duration": 0.086067,
     "end_time": "2021-02-17T13:06:17.060879",
     "exception": false,
     "start_time": "2021-02-17T13:06:16.974812",
     "status": "completed"
    },
    "tags": []
   },
   "source": [
    "### This sums-up the feature engineering part. We have the development data ready now."
   ]
  },
  {
   "cell_type": "code",
   "execution_count": 33,
   "metadata": {
    "execution": {
     "iopub.execute_input": "2021-02-17T13:06:17.241959Z",
     "iopub.status.busy": "2021-02-17T13:06:17.241232Z",
     "iopub.status.idle": "2021-02-17T13:06:17.268703Z",
     "shell.execute_reply": "2021-02-17T13:06:17.268000Z"
    },
    "papermill": {
     "duration": 0.120115,
     "end_time": "2021-02-17T13:06:17.268873",
     "exception": false,
     "start_time": "2021-02-17T13:06:17.148758",
     "status": "completed"
    },
    "tags": []
   },
   "outputs": [
    {
     "data": {
      "text/html": [
       "<div>\n",
       "<style scoped>\n",
       "    .dataframe tbody tr th:only-of-type {\n",
       "        vertical-align: middle;\n",
       "    }\n",
       "\n",
       "    .dataframe tbody tr th {\n",
       "        vertical-align: top;\n",
       "    }\n",
       "\n",
       "    .dataframe thead th {\n",
       "        text-align: right;\n",
       "    }\n",
       "</style>\n",
       "<table border=\"1\" class=\"dataframe\">\n",
       "  <thead>\n",
       "    <tr style=\"text-align: right;\">\n",
       "      <th></th>\n",
       "      <th>Survived</th>\n",
       "      <th>Sex</th>\n",
       "      <th>Age</th>\n",
       "      <th>SibSp</th>\n",
       "      <th>Parch</th>\n",
       "      <th>Fare</th>\n",
       "      <th>Em_C</th>\n",
       "      <th>Em_Q</th>\n",
       "      <th>Em_S</th>\n",
       "      <th>Cabin_A</th>\n",
       "      <th>...</th>\n",
       "      <th>T_STONO</th>\n",
       "      <th>T_STONO2</th>\n",
       "      <th>T_STONOQ</th>\n",
       "      <th>T_SWPP</th>\n",
       "      <th>T_WC</th>\n",
       "      <th>T_WEP</th>\n",
       "      <th>T_X</th>\n",
       "      <th>Pc_1</th>\n",
       "      <th>Pc_2</th>\n",
       "      <th>Pc_3</th>\n",
       "    </tr>\n",
       "  </thead>\n",
       "  <tbody>\n",
       "    <tr>\n",
       "      <th>0</th>\n",
       "      <td>0.0</td>\n",
       "      <td>0</td>\n",
       "      <td>22.0</td>\n",
       "      <td>1</td>\n",
       "      <td>0</td>\n",
       "      <td>1.981001</td>\n",
       "      <td>0</td>\n",
       "      <td>0</td>\n",
       "      <td>1</td>\n",
       "      <td>0</td>\n",
       "      <td>...</td>\n",
       "      <td>0</td>\n",
       "      <td>0</td>\n",
       "      <td>0</td>\n",
       "      <td>0</td>\n",
       "      <td>0</td>\n",
       "      <td>0</td>\n",
       "      <td>0</td>\n",
       "      <td>0</td>\n",
       "      <td>0</td>\n",
       "      <td>1</td>\n",
       "    </tr>\n",
       "    <tr>\n",
       "      <th>1</th>\n",
       "      <td>1.0</td>\n",
       "      <td>1</td>\n",
       "      <td>38.0</td>\n",
       "      <td>1</td>\n",
       "      <td>0</td>\n",
       "      <td>4.266662</td>\n",
       "      <td>1</td>\n",
       "      <td>0</td>\n",
       "      <td>0</td>\n",
       "      <td>0</td>\n",
       "      <td>...</td>\n",
       "      <td>0</td>\n",
       "      <td>0</td>\n",
       "      <td>0</td>\n",
       "      <td>0</td>\n",
       "      <td>0</td>\n",
       "      <td>0</td>\n",
       "      <td>0</td>\n",
       "      <td>1</td>\n",
       "      <td>0</td>\n",
       "      <td>0</td>\n",
       "    </tr>\n",
       "    <tr>\n",
       "      <th>2</th>\n",
       "      <td>1.0</td>\n",
       "      <td>1</td>\n",
       "      <td>26.0</td>\n",
       "      <td>0</td>\n",
       "      <td>0</td>\n",
       "      <td>2.070022</td>\n",
       "      <td>0</td>\n",
       "      <td>0</td>\n",
       "      <td>1</td>\n",
       "      <td>0</td>\n",
       "      <td>...</td>\n",
       "      <td>0</td>\n",
       "      <td>1</td>\n",
       "      <td>0</td>\n",
       "      <td>0</td>\n",
       "      <td>0</td>\n",
       "      <td>0</td>\n",
       "      <td>0</td>\n",
       "      <td>0</td>\n",
       "      <td>0</td>\n",
       "      <td>1</td>\n",
       "    </tr>\n",
       "    <tr>\n",
       "      <th>3</th>\n",
       "      <td>1.0</td>\n",
       "      <td>1</td>\n",
       "      <td>35.0</td>\n",
       "      <td>1</td>\n",
       "      <td>0</td>\n",
       "      <td>3.972177</td>\n",
       "      <td>0</td>\n",
       "      <td>0</td>\n",
       "      <td>1</td>\n",
       "      <td>0</td>\n",
       "      <td>...</td>\n",
       "      <td>0</td>\n",
       "      <td>0</td>\n",
       "      <td>0</td>\n",
       "      <td>0</td>\n",
       "      <td>0</td>\n",
       "      <td>0</td>\n",
       "      <td>1</td>\n",
       "      <td>1</td>\n",
       "      <td>0</td>\n",
       "      <td>0</td>\n",
       "    </tr>\n",
       "    <tr>\n",
       "      <th>4</th>\n",
       "      <td>0.0</td>\n",
       "      <td>0</td>\n",
       "      <td>35.0</td>\n",
       "      <td>0</td>\n",
       "      <td>0</td>\n",
       "      <td>2.085672</td>\n",
       "      <td>0</td>\n",
       "      <td>0</td>\n",
       "      <td>1</td>\n",
       "      <td>0</td>\n",
       "      <td>...</td>\n",
       "      <td>0</td>\n",
       "      <td>0</td>\n",
       "      <td>0</td>\n",
       "      <td>0</td>\n",
       "      <td>0</td>\n",
       "      <td>0</td>\n",
       "      <td>1</td>\n",
       "      <td>0</td>\n",
       "      <td>0</td>\n",
       "      <td>1</td>\n",
       "    </tr>\n",
       "  </tbody>\n",
       "</table>\n",
       "<p>5 rows × 59 columns</p>\n",
       "</div>"
      ],
      "text/plain": [
       "   Survived  Sex   Age  SibSp  Parch      Fare  Em_C  Em_Q  Em_S  Cabin_A  \\\n",
       "0       0.0    0  22.0      1      0  1.981001     0     0     1        0   \n",
       "1       1.0    1  38.0      1      0  4.266662     1     0     0        0   \n",
       "2       1.0    1  26.0      0      0  2.070022     0     0     1        0   \n",
       "3       1.0    1  35.0      1      0  3.972177     0     0     1        0   \n",
       "4       0.0    0  35.0      0      0  2.085672     0     0     1        0   \n",
       "\n",
       "   ...  T_STONO  T_STONO2  T_STONOQ  T_SWPP  T_WC  T_WEP  T_X  Pc_1  Pc_2  \\\n",
       "0  ...        0         0         0       0     0      0    0     0     0   \n",
       "1  ...        0         0         0       0     0      0    0     1     0   \n",
       "2  ...        0         1         0       0     0      0    0     0     0   \n",
       "3  ...        0         0         0       0     0      0    1     1     0   \n",
       "4  ...        0         0         0       0     0      0    1     0     0   \n",
       "\n",
       "   Pc_3  \n",
       "0     1  \n",
       "1     0  \n",
       "2     1  \n",
       "3     0  \n",
       "4     1  \n",
       "\n",
       "[5 rows x 59 columns]"
      ]
     },
     "execution_count": 33,
     "metadata": {},
     "output_type": "execute_result"
    }
   ],
   "source": [
    "combined.head()"
   ]
  },
  {
   "cell_type": "code",
   "execution_count": 34,
   "metadata": {
    "execution": {
     "iopub.execute_input": "2021-02-17T13:06:17.458738Z",
     "iopub.status.busy": "2021-02-17T13:06:17.457848Z",
     "iopub.status.idle": "2021-02-17T13:06:17.466526Z",
     "shell.execute_reply": "2021-02-17T13:06:17.467037Z"
    },
    "papermill": {
     "duration": 0.110657,
     "end_time": "2021-02-17T13:06:17.467236",
     "exception": false,
     "start_time": "2021-02-17T13:06:17.356579",
     "status": "completed"
    },
    "tags": []
   },
   "outputs": [],
   "source": [
    "train = combined[:train_len]\n",
    "test = combined[train_len:]\n",
    "test.drop(labels=[\"Survived\"],axis = 1,inplace=True)\n",
    "train[\"Survived\"] = train[\"Survived\"].astype(int)\n",
    "y = train[\"Survived\"]\n",
    "train = train.drop(labels = [\"Survived\"],axis = 1)\n",
    "train_x, val_x, train_y, val_y = train_test_split(train, y, test_size=0.2)\n",
    "test_id = titanic_test['PassengerId']\n",
    "test_x = test"
   ]
  },
  {
   "cell_type": "code",
   "execution_count": 35,
   "metadata": {
    "execution": {
     "iopub.execute_input": "2021-02-17T13:06:17.663665Z",
     "iopub.status.busy": "2021-02-17T13:06:17.662902Z",
     "iopub.status.idle": "2021-02-17T13:06:17.669128Z",
     "shell.execute_reply": "2021-02-17T13:06:17.669685Z"
    },
    "papermill": {
     "duration": 0.114945,
     "end_time": "2021-02-17T13:06:17.669882",
     "exception": false,
     "start_time": "2021-02-17T13:06:17.554937",
     "status": "completed"
    },
    "tags": []
   },
   "outputs": [],
   "source": [
    "assert len(train_x.columns) == len(test_x.columns)"
   ]
  },
  {
   "cell_type": "markdown",
   "metadata": {
    "papermill": {
     "duration": 0.099661,
     "end_time": "2021-02-17T13:06:17.866963",
     "exception": false,
     "start_time": "2021-02-17T13:06:17.767302",
     "status": "completed"
    },
    "tags": []
   },
   "source": [
    "### Some utility functions"
   ]
  },
  {
   "cell_type": "code",
   "execution_count": 36,
   "metadata": {
    "execution": {
     "iopub.execute_input": "2021-02-17T13:06:18.063842Z",
     "iopub.status.busy": "2021-02-17T13:06:18.062775Z",
     "iopub.status.idle": "2021-02-17T13:06:18.073314Z",
     "shell.execute_reply": "2021-02-17T13:06:18.074157Z"
    },
    "papermill": {
     "duration": 0.104142,
     "end_time": "2021-02-17T13:06:18.074409",
     "exception": false,
     "start_time": "2021-02-17T13:06:17.970267",
     "status": "completed"
    },
    "tags": []
   },
   "outputs": [],
   "source": [
    "### Function to evaluate model performance\n",
    "\n",
    "def evaluate_model_performnce(y_test, y_pred):\n",
    "    cm = confusion_matrix(y_test, y_pred)\n",
    "    \n",
    "    # Visualizing model performance\n",
    "    ax= plt.subplot()\n",
    "    sns.heatmap(cm, annot=True, ax = ax, fmt='g'); #annot=True to annotate cells\n",
    "\n",
    "    # labels, title and ticks\n",
    "    ax.set_xlabel('Predicted labels');ax.set_ylabel('True labels'); \n",
    "    ax.set_title('Confusion Matrix'); \n",
    "\n",
    "    tn, fp, fn, tp = cm.ravel()\n",
    "    #print(tn, fp, fn, tp)\n",
    "    precision = tp/(tp+fp)\n",
    "    recall = tp/(tp+fn)\n",
    "    f1 = 2 * (precision * recall) / (precision + recall)\n",
    "    accuracy = ((tp+tn)/(tp+tn+fp+fn))*100\n",
    "    print(\"Precision : \",precision)\n",
    "    print(\"Recall : \",recall)\n",
    "    print(\"F1 Score : \",f1)\n",
    "    print(\"Validation Accuracy : \",accuracy)\n",
    "    accuracy = metrics.accuracy_score(y_test, y_pred)\n",
    "    print(\"Accuracy Score : \", accuracy)\n",
    "\n",
    "    fpr, tpr, thresholds = metrics.roc_curve(y_test, y_pred)\n",
    "    auc = metrics.auc(fpr, tpr)\n",
    "    print(\"AUC Value : \", auc)\n",
    "    \n",
    "    return accuracy, auc, f1"
   ]
  },
  {
   "cell_type": "code",
   "execution_count": 37,
   "metadata": {
    "execution": {
     "iopub.execute_input": "2021-02-17T13:06:18.271753Z",
     "iopub.status.busy": "2021-02-17T13:06:18.270691Z",
     "iopub.status.idle": "2021-02-17T13:06:18.273184Z",
     "shell.execute_reply": "2021-02-17T13:06:18.273775Z"
    },
    "papermill": {
     "duration": 0.099691,
     "end_time": "2021-02-17T13:06:18.273958",
     "exception": false,
     "start_time": "2021-02-17T13:06:18.174267",
     "status": "completed"
    },
    "tags": []
   },
   "outputs": [],
   "source": [
    "## Function to create the submission file\n",
    "\n",
    "def make_submission_file(filename, probab, test_id, IdCol, targetCol, threshold=None):\n",
    "    submit = pd.DataFrame()\n",
    "    submit[IdCol] = test_id\n",
    "    submit[targetCol] = probab\n",
    "    if threshold!=None:\n",
    "        pred = [1 if x>=threshold else 0 for x in probab]\n",
    "        submit[targetCol] = pred\n",
    "    submit.to_csv(filename, index=False)\n",
    "    return submit"
   ]
  },
  {
   "cell_type": "markdown",
   "metadata": {
    "papermill": {
     "duration": 0.088883,
     "end_time": "2021-02-17T13:06:18.448691",
     "exception": false,
     "start_time": "2021-02-17T13:06:18.359808",
     "status": "completed"
    },
    "tags": []
   },
   "source": [
    "## <p style=\"background-color:skyblue; font-family:newtimeroman; font-size:180%; text-align:center\">Model Development</p>\n",
    "\n",
    "> ### Training the base learners"
   ]
  },
  {
   "cell_type": "markdown",
   "metadata": {
    "papermill": {
     "duration": 0.087923,
     "end_time": "2021-02-17T13:06:18.623032",
     "exception": false,
     "start_time": "2021-02-17T13:06:18.535109",
     "status": "completed"
    },
    "tags": []
   },
   "source": [
    "### Before directly jumping into ensembling. Let's first train some models individually and see how they are performing. \n",
    "We'll train the best models -\n",
    "- XGBoost\n",
    "- LightBoost\n",
    "- CatBoost \n",
    "<br/>\n",
    "\n",
    "And the ensemble them. Later we can check with other models too.\n",
    "\n",
    "Note - We'll be using default parameter's as of now."
   ]
  },
  {
   "cell_type": "markdown",
   "metadata": {
    "papermill": {
     "duration": 0.085801,
     "end_time": "2021-02-17T13:06:18.793409",
     "exception": false,
     "start_time": "2021-02-17T13:06:18.707608",
     "status": "completed"
    },
    "tags": []
   },
   "source": [
    "## 1) XGBoost"
   ]
  },
  {
   "cell_type": "code",
   "execution_count": 38,
   "metadata": {
    "execution": {
     "iopub.execute_input": "2021-02-17T13:06:18.974576Z",
     "iopub.status.busy": "2021-02-17T13:06:18.973552Z",
     "iopub.status.idle": "2021-02-17T13:06:19.149554Z",
     "shell.execute_reply": "2021-02-17T13:06:19.148952Z"
    },
    "papermill": {
     "duration": 0.268579,
     "end_time": "2021-02-17T13:06:19.149717",
     "exception": false,
     "start_time": "2021-02-17T13:06:18.881138",
     "status": "completed"
    },
    "tags": []
   },
   "outputs": [
    {
     "data": {
      "text/plain": [
       "XGBClassifier(base_score=0.5, booster='gbtree', colsample_bylevel=1,\n",
       "              colsample_bynode=1, colsample_bytree=1, gamma=0, gpu_id=-1,\n",
       "              importance_type='gain', interaction_constraints='',\n",
       "              learning_rate=0.300000012, max_delta_step=0, max_depth=6,\n",
       "              min_child_weight=1, missing=nan, monotone_constraints='()',\n",
       "              n_estimators=100, n_jobs=4, num_parallel_tree=1, random_state=0,\n",
       "              reg_alpha=0, reg_lambda=1, scale_pos_weight=1, subsample=1,\n",
       "              tree_method='exact', validate_parameters=1, verbosity=None)"
      ]
     },
     "execution_count": 38,
     "metadata": {},
     "output_type": "execute_result"
    }
   ],
   "source": [
    "xgb_clf = XGBClassifier()\n",
    "xgb_clf.fit(train_x, train_y,eval_metric=[\"auc\", \"logloss\"],verbose=True)"
   ]
  },
  {
   "cell_type": "code",
   "execution_count": 39,
   "metadata": {
    "execution": {
     "iopub.execute_input": "2021-02-17T13:06:19.339892Z",
     "iopub.status.busy": "2021-02-17T13:06:19.339101Z",
     "iopub.status.idle": "2021-02-17T13:06:19.633821Z",
     "shell.execute_reply": "2021-02-17T13:06:19.633222Z"
    },
    "papermill": {
     "duration": 0.395759,
     "end_time": "2021-02-17T13:06:19.633996",
     "exception": false,
     "start_time": "2021-02-17T13:06:19.238237",
     "status": "completed"
    },
    "tags": []
   },
   "outputs": [
    {
     "name": "stdout",
     "output_type": "stream",
     "text": [
      "Precision :  0.8051948051948052\n",
      "Recall :  0.8157894736842105\n",
      "F1 Score :  0.8104575163398693\n",
      "Validation Accuracy :  83.79888268156425\n",
      "Accuracy Score :  0.8379888268156425\n",
      "AUC Value :  0.8350792028615228\n"
     ]
    },
    {
     "data": {
      "image/png": "[encoded data removed]",
      "text/plain": [
       "<Figure size 432x288 with 2 Axes>"
      ]
     },
     "metadata": {
      "needs_background": "light"
     },
     "output_type": "display_data"
    }
   ],
   "source": [
    "threshold = 0.4\n",
    "xgb_val_prob = xgb_clf.predict_proba(val_x)\n",
    "xgb_val_prob = pd.DataFrame(xgb_val_prob)[1]\n",
    "xgb_val_pred = [1 if x >= threshold else 0 for x in xgb_val_prob]\n",
    "xgb_acc, xgb_auc, xgb_f1 = evaluate_model_performnce(val_y, xgb_val_pred) "
   ]
  },
  {
   "cell_type": "markdown",
   "metadata": {
    "papermill": {
     "duration": 0.094369,
     "end_time": "2021-02-17T13:06:19.819937",
     "exception": false,
     "start_time": "2021-02-17T13:06:19.725568",
     "status": "completed"
    },
    "tags": []
   },
   "source": [
    "Making prediction of leaderboard dataset"
   ]
  },
  {
   "cell_type": "code",
   "execution_count": 40,
   "metadata": {
    "execution": {
     "iopub.execute_input": "2021-02-17T13:06:20.005233Z",
     "iopub.status.busy": "2021-02-17T13:06:20.004563Z",
     "iopub.status.idle": "2021-02-17T13:06:20.019251Z",
     "shell.execute_reply": "2021-02-17T13:06:20.018591Z"
    },
    "papermill": {
     "duration": 0.10654,
     "end_time": "2021-02-17T13:06:20.019466",
     "exception": false,
     "start_time": "2021-02-17T13:06:19.912926",
     "status": "completed"
    },
    "tags": []
   },
   "outputs": [],
   "source": [
    "xgb_prob = xgb_clf.predict_proba(test_x)\n",
    "xgb_prob = pd.DataFrame(xgb_prob)[1]"
   ]
  },
  {
   "cell_type": "code",
   "execution_count": 41,
   "metadata": {
    "execution": {
     "iopub.execute_input": "2021-02-17T13:06:20.210246Z",
     "iopub.status.busy": "2021-02-17T13:06:20.209493Z",
     "iopub.status.idle": "2021-02-17T13:06:20.213473Z",
     "shell.execute_reply": "2021-02-17T13:06:20.212689Z"
    },
    "papermill": {
     "duration": 0.10273,
     "end_time": "2021-02-17T13:06:20.213697",
     "exception": false,
     "start_time": "2021-02-17T13:06:20.110967",
     "status": "completed"
    },
    "tags": []
   },
   "outputs": [],
   "source": [
    "#xgb_prob"
   ]
  },
  {
   "cell_type": "markdown",
   "metadata": {
    "papermill": {
     "duration": 0.090124,
     "end_time": "2021-02-17T13:06:20.391187",
     "exception": false,
     "start_time": "2021-02-17T13:06:20.301063",
     "status": "completed"
    },
    "tags": []
   },
   "source": [
    "Writitng the submission file"
   ]
  },
  {
   "cell_type": "code",
   "execution_count": 42,
   "metadata": {
    "execution": {
     "iopub.execute_input": "2021-02-17T13:06:20.576856Z",
     "iopub.status.busy": "2021-02-17T13:06:20.576063Z",
     "iopub.status.idle": "2021-02-17T13:06:20.588950Z",
     "shell.execute_reply": "2021-02-17T13:06:20.589574Z"
    },
    "papermill": {
     "duration": 0.109149,
     "end_time": "2021-02-17T13:06:20.589789",
     "exception": false,
     "start_time": "2021-02-17T13:06:20.480640",
     "status": "completed"
    },
    "tags": []
   },
   "outputs": [
    {
     "data": {
      "text/html": [
       "<div>\n",
       "<style scoped>\n",
       "    .dataframe tbody tr th:only-of-type {\n",
       "        vertical-align: middle;\n",
       "    }\n",
       "\n",
       "    .dataframe tbody tr th {\n",
       "        vertical-align: top;\n",
       "    }\n",
       "\n",
       "    .dataframe thead th {\n",
       "        text-align: right;\n",
       "    }\n",
       "</style>\n",
       "<table border=\"1\" class=\"dataframe\">\n",
       "  <thead>\n",
       "    <tr style=\"text-align: right;\">\n",
       "      <th></th>\n",
       "      <th>PassengerId</th>\n",
       "      <th>Survived</th>\n",
       "    </tr>\n",
       "  </thead>\n",
       "  <tbody>\n",
       "    <tr>\n",
       "      <th>0</th>\n",
       "      <td>892</td>\n",
       "      <td>0</td>\n",
       "    </tr>\n",
       "    <tr>\n",
       "      <th>1</th>\n",
       "      <td>893</td>\n",
       "      <td>0</td>\n",
       "    </tr>\n",
       "    <tr>\n",
       "      <th>2</th>\n",
       "      <td>894</td>\n",
       "      <td>0</td>\n",
       "    </tr>\n",
       "    <tr>\n",
       "      <th>3</th>\n",
       "      <td>895</td>\n",
       "      <td>1</td>\n",
       "    </tr>\n",
       "    <tr>\n",
       "      <th>4</th>\n",
       "      <td>896</td>\n",
       "      <td>1</td>\n",
       "    </tr>\n",
       "  </tbody>\n",
       "</table>\n",
       "</div>"
      ],
      "text/plain": [
       "   PassengerId  Survived\n",
       "0          892         0\n",
       "1          893         0\n",
       "2          894         0\n",
       "3          895         1\n",
       "4          896         1"
      ]
     },
     "execution_count": 42,
     "metadata": {},
     "output_type": "execute_result"
    }
   ],
   "source": [
    "xgb_sub = make_submission_file(dataset+\"_xgb_default.csv\", xgb_prob, test_id, IdCol, targetCol, threshold=0.5)\n",
    "xgb_sub.head()"
   ]
  },
  {
   "cell_type": "markdown",
   "metadata": {
    "papermill": {
     "duration": 0.09102,
     "end_time": "2021-02-17T13:06:20.770663",
     "exception": false,
     "start_time": "2021-02-17T13:06:20.679643",
     "status": "completed"
    },
    "tags": []
   },
   "source": [
    "## 2) LightGBM"
   ]
  },
  {
   "cell_type": "code",
   "execution_count": 43,
   "metadata": {
    "execution": {
     "iopub.execute_input": "2021-02-17T13:06:20.952712Z",
     "iopub.status.busy": "2021-02-17T13:06:20.952035Z",
     "iopub.status.idle": "2021-02-17T13:06:21.089587Z",
     "shell.execute_reply": "2021-02-17T13:06:21.090123Z"
    },
    "papermill": {
     "duration": 0.229273,
     "end_time": "2021-02-17T13:06:21.090343",
     "exception": false,
     "start_time": "2021-02-17T13:06:20.861070",
     "status": "completed"
    },
    "tags": []
   },
   "outputs": [
    {
     "data": {
      "text/plain": [
       "LGBMClassifier()"
      ]
     },
     "execution_count": 43,
     "metadata": {},
     "output_type": "execute_result"
    }
   ],
   "source": [
    "lgb_clf = LGBMClassifier()\n",
    "lgb_clf.fit(train_x, train_y)"
   ]
  },
  {
   "cell_type": "code",
   "execution_count": 44,
   "metadata": {
    "execution": {
     "iopub.execute_input": "2021-02-17T13:06:21.284330Z",
     "iopub.status.busy": "2021-02-17T13:06:21.282118Z",
     "iopub.status.idle": "2021-02-17T13:06:21.584734Z",
     "shell.execute_reply": "2021-02-17T13:06:21.584155Z"
    },
    "papermill": {
     "duration": 0.403454,
     "end_time": "2021-02-17T13:06:21.584878",
     "exception": false,
     "start_time": "2021-02-17T13:06:21.181424",
     "status": "completed"
    },
    "tags": []
   },
   "outputs": [
    {
     "name": "stdout",
     "output_type": "stream",
     "text": [
      "Precision :  0.8289473684210527\n",
      "Recall :  0.8289473684210527\n",
      "F1 Score :  0.8289473684210527\n",
      "Validation Accuracy :  85.47486033519553\n",
      "Accuracy Score :  0.8547486033519553\n",
      "AUC Value :  0.8513668880940216\n"
     ]
    },
    {
     "data": {
      "image/png": "[encoded data removed]",
      "text/plain": [
       "<Figure size 432x288 with 2 Axes>"
      ]
     },
     "metadata": {
      "needs_background": "light"
     },
     "output_type": "display_data"
    }
   ],
   "source": [
    "threshold = 0.4\n",
    "lgb_val_prob = lgb_clf.predict_proba(val_x)\n",
    "lgb_val_prob = pd.DataFrame(lgb_val_prob)[1]\n",
    "lgb_val_pred = [1 if x >= threshold else 0 for x in lgb_val_prob]\n",
    "lgb_acc, lgb_auc, lgb_f1 = evaluate_model_performnce(val_y, lgb_val_pred) "
   ]
  },
  {
   "cell_type": "markdown",
   "metadata": {
    "papermill": {
     "duration": 0.092768,
     "end_time": "2021-02-17T13:06:21.768954",
     "exception": false,
     "start_time": "2021-02-17T13:06:21.676186",
     "status": "completed"
    },
    "tags": []
   },
   "source": [
    "Making prediction of leaderboard dataset"
   ]
  },
  {
   "cell_type": "code",
   "execution_count": 45,
   "metadata": {
    "execution": {
     "iopub.execute_input": "2021-02-17T13:06:21.971381Z",
     "iopub.status.busy": "2021-02-17T13:06:21.970656Z",
     "iopub.status.idle": "2021-02-17T13:06:21.976753Z",
     "shell.execute_reply": "2021-02-17T13:06:21.975377Z"
    },
    "papermill": {
     "duration": 0.112298,
     "end_time": "2021-02-17T13:06:21.976963",
     "exception": false,
     "start_time": "2021-02-17T13:06:21.864665",
     "status": "completed"
    },
    "tags": []
   },
   "outputs": [],
   "source": [
    "lgb_prob = lgb_clf.predict_proba(test_x)\n",
    "lgb_prob = pd.DataFrame(lgb_prob)[1]"
   ]
  },
  {
   "cell_type": "code",
   "execution_count": 46,
   "metadata": {
    "execution": {
     "iopub.execute_input": "2021-02-17T13:06:22.166910Z",
     "iopub.status.busy": "2021-02-17T13:06:22.166140Z",
     "iopub.status.idle": "2021-02-17T13:06:22.169830Z",
     "shell.execute_reply": "2021-02-17T13:06:22.169241Z"
    },
    "papermill": {
     "duration": 0.09691,
     "end_time": "2021-02-17T13:06:22.170092",
     "exception": false,
     "start_time": "2021-02-17T13:06:22.073182",
     "status": "completed"
    },
    "tags": []
   },
   "outputs": [],
   "source": [
    "#lgb_prob"
   ]
  },
  {
   "cell_type": "markdown",
   "metadata": {
    "papermill": {
     "duration": 0.0926,
     "end_time": "2021-02-17T13:06:22.354144",
     "exception": false,
     "start_time": "2021-02-17T13:06:22.261544",
     "status": "completed"
    },
    "tags": []
   },
   "source": [
    "Writitng the submission file"
   ]
  },
  {
   "cell_type": "code",
   "execution_count": 47,
   "metadata": {
    "execution": {
     "iopub.execute_input": "2021-02-17T13:06:22.555869Z",
     "iopub.status.busy": "2021-02-17T13:06:22.555117Z",
     "iopub.status.idle": "2021-02-17T13:06:22.564222Z",
     "shell.execute_reply": "2021-02-17T13:06:22.564790Z"
    },
    "papermill": {
     "duration": 0.114586,
     "end_time": "2021-02-17T13:06:22.564974",
     "exception": false,
     "start_time": "2021-02-17T13:06:22.450388",
     "status": "completed"
    },
    "tags": []
   },
   "outputs": [
    {
     "data": {
      "text/html": [
       "<div>\n",
       "<style scoped>\n",
       "    .dataframe tbody tr th:only-of-type {\n",
       "        vertical-align: middle;\n",
       "    }\n",
       "\n",
       "    .dataframe tbody tr th {\n",
       "        vertical-align: top;\n",
       "    }\n",
       "\n",
       "    .dataframe thead th {\n",
       "        text-align: right;\n",
       "    }\n",
       "</style>\n",
       "<table border=\"1\" class=\"dataframe\">\n",
       "  <thead>\n",
       "    <tr style=\"text-align: right;\">\n",
       "      <th></th>\n",
       "      <th>PassengerId</th>\n",
       "      <th>Survived</th>\n",
       "    </tr>\n",
       "  </thead>\n",
       "  <tbody>\n",
       "    <tr>\n",
       "      <th>0</th>\n",
       "      <td>892</td>\n",
       "      <td>0</td>\n",
       "    </tr>\n",
       "    <tr>\n",
       "      <th>1</th>\n",
       "      <td>893</td>\n",
       "      <td>0</td>\n",
       "    </tr>\n",
       "    <tr>\n",
       "      <th>2</th>\n",
       "      <td>894</td>\n",
       "      <td>0</td>\n",
       "    </tr>\n",
       "    <tr>\n",
       "      <th>3</th>\n",
       "      <td>895</td>\n",
       "      <td>1</td>\n",
       "    </tr>\n",
       "    <tr>\n",
       "      <th>4</th>\n",
       "      <td>896</td>\n",
       "      <td>0</td>\n",
       "    </tr>\n",
       "  </tbody>\n",
       "</table>\n",
       "</div>"
      ],
      "text/plain": [
       "   PassengerId  Survived\n",
       "0          892         0\n",
       "1          893         0\n",
       "2          894         0\n",
       "3          895         1\n",
       "4          896         0"
      ]
     },
     "execution_count": 47,
     "metadata": {},
     "output_type": "execute_result"
    }
   ],
   "source": [
    "lgb_sub = make_submission_file(dataset+\"_lgb_default.csv\", lgb_prob, test_id, IdCol, targetCol, threshold=0.5)\n",
    "lgb_sub.head()"
   ]
  },
  {
   "cell_type": "markdown",
   "metadata": {
    "papermill": {
     "duration": 0.141848,
     "end_time": "2021-02-17T13:06:22.805280",
     "exception": false,
     "start_time": "2021-02-17T13:06:22.663432",
     "status": "completed"
    },
    "tags": []
   },
   "source": [
    "### 3) CatBoost"
   ]
  },
  {
   "cell_type": "code",
   "execution_count": 48,
   "metadata": {
    "execution": {
     "iopub.execute_input": "2021-02-17T13:06:23.002303Z",
     "iopub.status.busy": "2021-02-17T13:06:23.001538Z",
     "iopub.status.idle": "2021-02-17T13:06:24.781368Z",
     "shell.execute_reply": "2021-02-17T13:06:24.781955Z"
    },
    "papermill": {
     "duration": 1.878101,
     "end_time": "2021-02-17T13:06:24.782131",
     "exception": false,
     "start_time": "2021-02-17T13:06:22.904030",
     "status": "completed"
    },
    "tags": []
   },
   "outputs": [
    {
     "data": {
      "text/plain": [
       "<catboost.core.CatBoostClassifier at 0x7ff0b408d5d0>"
      ]
     },
     "execution_count": 48,
     "metadata": {},
     "output_type": "execute_result"
    }
   ],
   "source": [
    "cat_clf = CatBoostClassifier(verbose=0)\n",
    "cat_clf.fit(train_x, train_y)"
   ]
  },
  {
   "cell_type": "code",
   "execution_count": 49,
   "metadata": {
    "execution": {
     "iopub.execute_input": "2021-02-17T13:06:24.979489Z",
     "iopub.status.busy": "2021-02-17T13:06:24.978504Z",
     "iopub.status.idle": "2021-02-17T13:06:25.275128Z",
     "shell.execute_reply": "2021-02-17T13:06:25.275671Z"
    },
    "papermill": {
     "duration": 0.398444,
     "end_time": "2021-02-17T13:06:25.275864",
     "exception": false,
     "start_time": "2021-02-17T13:06:24.877420",
     "status": "completed"
    },
    "tags": []
   },
   "outputs": [
    {
     "name": "stdout",
     "output_type": "stream",
     "text": [
      "Precision :  0.8289473684210527\n",
      "Recall :  0.8289473684210527\n",
      "F1 Score :  0.8289473684210527\n",
      "Validation Accuracy :  85.47486033519553\n",
      "Accuracy Score :  0.8547486033519553\n",
      "AUC Value :  0.8513668880940216\n"
     ]
    },
    {
     "data": {
      "image/png": "[encoded data removed]",
      "text/plain": [
       "<Figure size 432x288 with 2 Axes>"
      ]
     },
     "metadata": {
      "needs_background": "light"
     },
     "output_type": "display_data"
    }
   ],
   "source": [
    "threshold = 0.4\n",
    "cat_val_prob = cat_clf.predict_proba(val_x)\n",
    "cat_val_prob = pd.DataFrame(cat_val_prob)[1]\n",
    "cat_val_pred = [1 if x >= threshold else 0 for x in cat_val_prob]\n",
    "cat_acc, cat_auc, cat_f1 = evaluate_model_performnce(val_y, cat_val_pred) "
   ]
  },
  {
   "cell_type": "markdown",
   "metadata": {
    "papermill": {
     "duration": 0.091352,
     "end_time": "2021-02-17T13:06:25.459571",
     "exception": false,
     "start_time": "2021-02-17T13:06:25.368219",
     "status": "completed"
    },
    "tags": []
   },
   "source": [
    "Making prediction of leaderboard dataset"
   ]
  },
  {
   "cell_type": "code",
   "execution_count": 50,
   "metadata": {
    "execution": {
     "iopub.execute_input": "2021-02-17T13:06:25.837693Z",
     "iopub.status.busy": "2021-02-17T13:06:25.836909Z",
     "iopub.status.idle": "2021-02-17T13:06:25.842703Z",
     "shell.execute_reply": "2021-02-17T13:06:25.842087Z"
    },
    "papermill": {
     "duration": 0.292213,
     "end_time": "2021-02-17T13:06:25.842867",
     "exception": false,
     "start_time": "2021-02-17T13:06:25.550654",
     "status": "completed"
    },
    "tags": []
   },
   "outputs": [],
   "source": [
    "cat_prob = cat_clf.predict_proba(test_x)\n",
    "cat_prob = pd.DataFrame(cat_prob)[1]"
   ]
  },
  {
   "cell_type": "code",
   "execution_count": 51,
   "metadata": {
    "execution": {
     "iopub.execute_input": "2021-02-17T13:06:26.033108Z",
     "iopub.status.busy": "2021-02-17T13:06:26.032128Z",
     "iopub.status.idle": "2021-02-17T13:06:26.035894Z",
     "shell.execute_reply": "2021-02-17T13:06:26.035186Z"
    },
    "papermill": {
     "duration": 0.100429,
     "end_time": "2021-02-17T13:06:26.036060",
     "exception": false,
     "start_time": "2021-02-17T13:06:25.935631",
     "status": "completed"
    },
    "tags": []
   },
   "outputs": [],
   "source": [
    "#cat_prob"
   ]
  },
  {
   "cell_type": "markdown",
   "metadata": {
    "papermill": {
     "duration": 0.093245,
     "end_time": "2021-02-17T13:06:26.222783",
     "exception": false,
     "start_time": "2021-02-17T13:06:26.129538",
     "status": "completed"
    },
    "tags": []
   },
   "source": [
    "Writitng the submission file"
   ]
  },
  {
   "cell_type": "code",
   "execution_count": 52,
   "metadata": {
    "execution": {
     "iopub.execute_input": "2021-02-17T13:06:26.418857Z",
     "iopub.status.busy": "2021-02-17T13:06:26.418048Z",
     "iopub.status.idle": "2021-02-17T13:06:26.429004Z",
     "shell.execute_reply": "2021-02-17T13:06:26.428332Z"
    },
    "papermill": {
     "duration": 0.111205,
     "end_time": "2021-02-17T13:06:26.429155",
     "exception": false,
     "start_time": "2021-02-17T13:06:26.317950",
     "status": "completed"
    },
    "tags": []
   },
   "outputs": [
    {
     "data": {
      "text/html": [
       "<div>\n",
       "<style scoped>\n",
       "    .dataframe tbody tr th:only-of-type {\n",
       "        vertical-align: middle;\n",
       "    }\n",
       "\n",
       "    .dataframe tbody tr th {\n",
       "        vertical-align: top;\n",
       "    }\n",
       "\n",
       "    .dataframe thead th {\n",
       "        text-align: right;\n",
       "    }\n",
       "</style>\n",
       "<table border=\"1\" class=\"dataframe\">\n",
       "  <thead>\n",
       "    <tr style=\"text-align: right;\">\n",
       "      <th></th>\n",
       "      <th>PassengerId</th>\n",
       "      <th>Survived</th>\n",
       "    </tr>\n",
       "  </thead>\n",
       "  <tbody>\n",
       "    <tr>\n",
       "      <th>0</th>\n",
       "      <td>892</td>\n",
       "      <td>0</td>\n",
       "    </tr>\n",
       "    <tr>\n",
       "      <th>1</th>\n",
       "      <td>893</td>\n",
       "      <td>0</td>\n",
       "    </tr>\n",
       "    <tr>\n",
       "      <th>2</th>\n",
       "      <td>894</td>\n",
       "      <td>0</td>\n",
       "    </tr>\n",
       "    <tr>\n",
       "      <th>3</th>\n",
       "      <td>895</td>\n",
       "      <td>0</td>\n",
       "    </tr>\n",
       "    <tr>\n",
       "      <th>4</th>\n",
       "      <td>896</td>\n",
       "      <td>0</td>\n",
       "    </tr>\n",
       "  </tbody>\n",
       "</table>\n",
       "</div>"
      ],
      "text/plain": [
       "   PassengerId  Survived\n",
       "0          892         0\n",
       "1          893         0\n",
       "2          894         0\n",
       "3          895         0\n",
       "4          896         0"
      ]
     },
     "execution_count": 52,
     "metadata": {},
     "output_type": "execute_result"
    }
   ],
   "source": [
    "cat_sub = make_submission_file(dataset+\"_cat_default.csv\", cat_prob, test_id, IdCol, targetCol, threshold=0.5)\n",
    "cat_sub.head()"
   ]
  },
  {
   "cell_type": "markdown",
   "metadata": {
    "papermill": {
     "duration": 0.094561,
     "end_time": "2021-02-17T13:06:26.616841",
     "exception": false,
     "start_time": "2021-02-17T13:06:26.522280",
     "status": "completed"
    },
    "tags": []
   },
   "source": [
    "## <p style=\"background-color:skyblue; font-family:newtimeroman; font-size:180%; text-align:center\">Ensembling</p>"
   ]
  },
  {
   "cell_type": "markdown",
   "metadata": {
    "papermill": {
     "duration": 0.095006,
     "end_time": "2021-02-17T13:06:26.805506",
     "exception": false,
     "start_time": "2021-02-17T13:06:26.710500",
     "status": "completed"
    },
    "tags": []
   },
   "source": [
    "## Finally Ensembling!\n",
    "\n",
    "> #### If you are absolute beginner to ensembling and find this notebook a bit difficult to follow. I encourage you to lokk at this thread [Gateway to Ensembling!!](https://www.kaggle.com/getting-started/219696)\n",
    "\n",
    "Now we'll se how we can combine the learning from individual models and make an ensemble.\n",
    "\n",
    "### 1) Weighted Ensembling Approach\n",
    "\n",
    "This is the most simple approach for ensembling. We take weighted average of the scores of individual model that gives us the ensembled score. You can decide the weight of an individual model based on the validation score of that model or your experience. \n",
    "\n",
    "Note - We can treat these weights as hyperparameter and optimize them like we do in Logistic Regression. (w1x1 + w2x2 + ....) Right? Yes, This is the next technique."
   ]
  },
  {
   "cell_type": "markdown",
   "metadata": {
    "papermill": {
     "duration": 0.093923,
     "end_time": "2021-02-17T13:06:26.997513",
     "exception": false,
     "start_time": "2021-02-17T13:06:26.903590",
     "status": "completed"
    },
    "tags": []
   },
   "source": [
    "Ensembling on Validation Set and evaluating it!"
   ]
  },
  {
   "cell_type": "code",
   "execution_count": 53,
   "metadata": {
    "execution": {
     "iopub.execute_input": "2021-02-17T13:06:27.196775Z",
     "iopub.status.busy": "2021-02-17T13:06:27.196083Z",
     "iopub.status.idle": "2021-02-17T13:06:27.201894Z",
     "shell.execute_reply": "2021-02-17T13:06:27.202656Z"
    },
    "papermill": {
     "duration": 0.106266,
     "end_time": "2021-02-17T13:06:27.202873",
     "exception": false,
     "start_time": "2021-02-17T13:06:27.096607",
     "status": "completed"
    },
    "tags": []
   },
   "outputs": [],
   "source": [
    "ens_val_prob = 0.4*cat_val_prob + 0.3*lgb_val_prob + 0.3*xgb_val_prob"
   ]
  },
  {
   "cell_type": "code",
   "execution_count": 54,
   "metadata": {
    "execution": {
     "iopub.execute_input": "2021-02-17T13:06:27.397667Z",
     "iopub.status.busy": "2021-02-17T13:06:27.396857Z",
     "iopub.status.idle": "2021-02-17T13:06:27.698365Z",
     "shell.execute_reply": "2021-02-17T13:06:27.699401Z"
    },
    "papermill": {
     "duration": 0.400616,
     "end_time": "2021-02-17T13:06:27.699634",
     "exception": false,
     "start_time": "2021-02-17T13:06:27.299018",
     "status": "completed"
    },
    "tags": []
   },
   "outputs": [
    {
     "name": "stdout",
     "output_type": "stream",
     "text": [
      "Precision :  0.8533333333333334\n",
      "Recall :  0.8421052631578947\n",
      "F1 Score :  0.847682119205298\n",
      "Validation Accuracy :  87.15083798882681\n",
      "Accuracy Score :  0.8715083798882681\n",
      "AUC Value :  0.8676545733265203\n"
     ]
    },
    {
     "data": {
      "image/png": "[encoded data removed]",
      "text/plain": [
       "<Figure size 432x288 with 2 Axes>"
      ]
     },
     "metadata": {
      "needs_background": "light"
     },
     "output_type": "display_data"
    }
   ],
   "source": [
    "threshold = 0.4\n",
    "ens_val_pred = [1 if x >= threshold else 0 for x in ens_val_prob]\n",
    "ens_acc, ens_auc, ens_f1 = evaluate_model_performnce(val_y, ens_val_pred) "
   ]
  },
  {
   "cell_type": "markdown",
   "metadata": {
    "papermill": {
     "duration": 0.096926,
     "end_time": "2021-02-17T13:06:27.893103",
     "exception": false,
     "start_time": "2021-02-17T13:06:27.796177",
     "status": "completed"
    },
    "tags": []
   },
   "source": [
    "On Leaderboard set"
   ]
  },
  {
   "cell_type": "code",
   "execution_count": 55,
   "metadata": {
    "execution": {
     "iopub.execute_input": "2021-02-17T13:06:28.087988Z",
     "iopub.status.busy": "2021-02-17T13:06:28.087008Z",
     "iopub.status.idle": "2021-02-17T13:06:28.090651Z",
     "shell.execute_reply": "2021-02-17T13:06:28.090114Z"
    },
    "papermill": {
     "duration": 0.10275,
     "end_time": "2021-02-17T13:06:28.090801",
     "exception": false,
     "start_time": "2021-02-17T13:06:27.988051",
     "status": "completed"
    },
    "tags": []
   },
   "outputs": [],
   "source": [
    "ens_prob = 0.4*cat_prob + 0.3*lgb_prob + 0.3*xgb_prob"
   ]
  },
  {
   "cell_type": "code",
   "execution_count": 56,
   "metadata": {
    "execution": {
     "iopub.execute_input": "2021-02-17T13:06:28.287576Z",
     "iopub.status.busy": "2021-02-17T13:06:28.286625Z",
     "iopub.status.idle": "2021-02-17T13:06:28.290404Z",
     "shell.execute_reply": "2021-02-17T13:06:28.289873Z"
    },
    "papermill": {
     "duration": 0.105626,
     "end_time": "2021-02-17T13:06:28.290565",
     "exception": false,
     "start_time": "2021-02-17T13:06:28.184939",
     "status": "completed"
    },
    "tags": []
   },
   "outputs": [],
   "source": [
    "#y_prob"
   ]
  },
  {
   "cell_type": "code",
   "execution_count": 57,
   "metadata": {
    "execution": {
     "iopub.execute_input": "2021-02-17T13:06:28.491628Z",
     "iopub.status.busy": "2021-02-17T13:06:28.487124Z",
     "iopub.status.idle": "2021-02-17T13:06:28.498179Z",
     "shell.execute_reply": "2021-02-17T13:06:28.497475Z"
    },
    "papermill": {
     "duration": 0.113707,
     "end_time": "2021-02-17T13:06:28.498339",
     "exception": false,
     "start_time": "2021-02-17T13:06:28.384632",
     "status": "completed"
    },
    "tags": []
   },
   "outputs": [
    {
     "data": {
      "text/html": [
       "<div>\n",
       "<style scoped>\n",
       "    .dataframe tbody tr th:only-of-type {\n",
       "        vertical-align: middle;\n",
       "    }\n",
       "\n",
       "    .dataframe tbody tr th {\n",
       "        vertical-align: top;\n",
       "    }\n",
       "\n",
       "    .dataframe thead th {\n",
       "        text-align: right;\n",
       "    }\n",
       "</style>\n",
       "<table border=\"1\" class=\"dataframe\">\n",
       "  <thead>\n",
       "    <tr style=\"text-align: right;\">\n",
       "      <th></th>\n",
       "      <th>PassengerId</th>\n",
       "      <th>Survived</th>\n",
       "    </tr>\n",
       "  </thead>\n",
       "  <tbody>\n",
       "    <tr>\n",
       "      <th>0</th>\n",
       "      <td>892</td>\n",
       "      <td>0</td>\n",
       "    </tr>\n",
       "    <tr>\n",
       "      <th>1</th>\n",
       "      <td>893</td>\n",
       "      <td>0</td>\n",
       "    </tr>\n",
       "    <tr>\n",
       "      <th>2</th>\n",
       "      <td>894</td>\n",
       "      <td>0</td>\n",
       "    </tr>\n",
       "    <tr>\n",
       "      <th>3</th>\n",
       "      <td>895</td>\n",
       "      <td>0</td>\n",
       "    </tr>\n",
       "    <tr>\n",
       "      <th>4</th>\n",
       "      <td>896</td>\n",
       "      <td>0</td>\n",
       "    </tr>\n",
       "  </tbody>\n",
       "</table>\n",
       "</div>"
      ],
      "text/plain": [
       "   PassengerId  Survived\n",
       "0          892         0\n",
       "1          893         0\n",
       "2          894         0\n",
       "3          895         0\n",
       "4          896         0"
      ]
     },
     "execution_count": 57,
     "metadata": {},
     "output_type": "execute_result"
    }
   ],
   "source": [
    "ens_sub = make_submission_file(dataset+\"_weighted_ens.csv\", ens_prob, test_id, IdCol, targetCol, threshold=0.5)\n",
    "ens_sub.head()"
   ]
  },
  {
   "cell_type": "markdown",
   "metadata": {
    "papermill": {
     "duration": 0.095789,
     "end_time": "2021-02-17T13:06:28.689668",
     "exception": false,
     "start_time": "2021-02-17T13:06:28.593879",
     "status": "completed"
    },
    "tags": []
   },
   "source": [
    "## 2) Ensemblinng using a ML model\n",
    "\n",
    "Like discussed in the previous section here we train a separate model on the outcome of individual models and then using that model an ensembled model."
   ]
  },
  {
   "cell_type": "code",
   "execution_count": 58,
   "metadata": {
    "execution": {
     "iopub.execute_input": "2021-02-17T13:06:28.889309Z",
     "iopub.status.busy": "2021-02-17T13:06:28.888623Z",
     "iopub.status.idle": "2021-02-17T13:06:28.891895Z",
     "shell.execute_reply": "2021-02-17T13:06:28.892408Z"
    },
    "papermill": {
     "duration": 0.107208,
     "end_time": "2021-02-17T13:06:28.892625",
     "exception": false,
     "start_time": "2021-02-17T13:06:28.785417",
     "status": "completed"
    },
    "tags": []
   },
   "outputs": [],
   "source": [
    "trained_clfs = [xgb_clf, lgb_clf, cat_clf]\n",
    "\n",
    "def ensembling_engine(trained_clfs, train_x, train_y, test_x, ensembler):\n",
    "    train_matrix = np.empty((train_x.shape[0], len(trained_clfs)))\n",
    "    for (n, clf) in enumerate(trained_clfs):\n",
    "        train_matrix[:,n] = pd.DataFrame(clf.predict_proba(train_x))[1]      #pd.DataFrame(cat_prob)[1]\n",
    "        \n",
    "    ensembler.fit(train_matrix, train_y)\n",
    "    \n",
    "    test_matrix = np.empty((test_x.shape[0], len(trained_clfs)))\n",
    "    for (n, clf) in enumerate(trained_clfs):\n",
    "        test_matrix[:,n] = pd.DataFrame(clf.predict_proba(test_x))[1]   \n",
    "        \n",
    "    ens_prob = ensembler.predict_proba(test_matrix)\n",
    "    return ens_prob"
   ]
  },
  {
   "cell_type": "markdown",
   "metadata": {
    "papermill": {
     "duration": 0.104462,
     "end_time": "2021-02-17T13:06:29.095511",
     "exception": false,
     "start_time": "2021-02-17T13:06:28.991049",
     "status": "completed"
    },
    "tags": []
   },
   "source": [
    "### 2.1) Logistic Regression\n",
    "\n",
    "Let's try with simple logistic regression. We'll do ensembling on Validation Set and then evaluate it!"
   ]
  },
  {
   "cell_type": "code",
   "execution_count": 59,
   "metadata": {
    "execution": {
     "iopub.execute_input": "2021-02-17T13:06:29.296257Z",
     "iopub.status.busy": "2021-02-17T13:06:29.295609Z",
     "iopub.status.idle": "2021-02-17T13:06:29.298058Z",
     "shell.execute_reply": "2021-02-17T13:06:29.298628Z"
    },
    "papermill": {
     "duration": 0.104825,
     "end_time": "2021-02-17T13:06:29.298814",
     "exception": false,
     "start_time": "2021-02-17T13:06:29.193989",
     "status": "completed"
    },
    "tags": []
   },
   "outputs": [],
   "source": [
    "ensembler = LogisticRegression()"
   ]
  },
  {
   "cell_type": "code",
   "execution_count": 60,
   "metadata": {
    "execution": {
     "iopub.execute_input": "2021-02-17T13:06:29.503183Z",
     "iopub.status.busy": "2021-02-17T13:06:29.502360Z",
     "iopub.status.idle": "2021-02-17T13:06:29.883086Z",
     "shell.execute_reply": "2021-02-17T13:06:29.883675Z"
    },
    "papermill": {
     "duration": 0.488767,
     "end_time": "2021-02-17T13:06:29.883870",
     "exception": false,
     "start_time": "2021-02-17T13:06:29.395103",
     "status": "completed"
    },
    "tags": []
   },
   "outputs": [
    {
     "name": "stdout",
     "output_type": "stream",
     "text": [
      "Precision :  0.8493150684931506\n",
      "Recall :  0.8157894736842105\n",
      "F1 Score :  0.832214765100671\n",
      "Validation Accuracy :  86.03351955307262\n",
      "Accuracy Score :  0.8603351955307262\n",
      "AUC Value :  0.8544966785896781\n"
     ]
    },
    {
     "data": {
      "image/png": "[encoded data removed]",
      "text/plain": [
       "<Figure size 432x288 with 2 Axes>"
      ]
     },
     "metadata": {
      "needs_background": "light"
     },
     "output_type": "display_data"
    }
   ],
   "source": [
    "lr_ens_val_prob = ensembling_engine(trained_clfs, train_x, train_y, val_x, ensembler)\n",
    "lr_ens_val_prob = pd.DataFrame(lr_ens_val_prob)[1]\n",
    "threshold = 0.4\n",
    "lr_ens_val_pred = [1 if x >= threshold else 0 for x in lr_ens_val_prob]\n",
    "le_ens_acc, lr_ens_auc, lr_ens_f1 = evaluate_model_performnce(val_y, lr_ens_val_pred) "
   ]
  },
  {
   "cell_type": "markdown",
   "metadata": {
    "papermill": {
     "duration": 0.102485,
     "end_time": "2021-02-17T13:06:30.085165",
     "exception": false,
     "start_time": "2021-02-17T13:06:29.982680",
     "status": "completed"
    },
    "tags": []
   },
   "source": [
    "Ensembling on leaderboard dataset"
   ]
  },
  {
   "cell_type": "code",
   "execution_count": 61,
   "metadata": {
    "execution": {
     "iopub.execute_input": "2021-02-17T13:06:30.328662Z",
     "iopub.status.busy": "2021-02-17T13:06:30.305259Z",
     "iopub.status.idle": "2021-02-17T13:06:30.464620Z",
     "shell.execute_reply": "2021-02-17T13:06:30.465150Z"
    },
    "papermill": {
     "duration": 0.284298,
     "end_time": "2021-02-17T13:06:30.465350",
     "exception": false,
     "start_time": "2021-02-17T13:06:30.181052",
     "status": "completed"
    },
    "tags": []
   },
   "outputs": [
    {
     "data": {
      "text/html": [
       "<div>\n",
       "<style scoped>\n",
       "    .dataframe tbody tr th:only-of-type {\n",
       "        vertical-align: middle;\n",
       "    }\n",
       "\n",
       "    .dataframe tbody tr th {\n",
       "        vertical-align: top;\n",
       "    }\n",
       "\n",
       "    .dataframe thead th {\n",
       "        text-align: right;\n",
       "    }\n",
       "</style>\n",
       "<table border=\"1\" class=\"dataframe\">\n",
       "  <thead>\n",
       "    <tr style=\"text-align: right;\">\n",
       "      <th></th>\n",
       "      <th>PassengerId</th>\n",
       "      <th>Survived</th>\n",
       "    </tr>\n",
       "  </thead>\n",
       "  <tbody>\n",
       "    <tr>\n",
       "      <th>0</th>\n",
       "      <td>892</td>\n",
       "      <td>0</td>\n",
       "    </tr>\n",
       "    <tr>\n",
       "      <th>1</th>\n",
       "      <td>893</td>\n",
       "      <td>0</td>\n",
       "    </tr>\n",
       "    <tr>\n",
       "      <th>2</th>\n",
       "      <td>894</td>\n",
       "      <td>0</td>\n",
       "    </tr>\n",
       "    <tr>\n",
       "      <th>3</th>\n",
       "      <td>895</td>\n",
       "      <td>1</td>\n",
       "    </tr>\n",
       "    <tr>\n",
       "      <th>4</th>\n",
       "      <td>896</td>\n",
       "      <td>1</td>\n",
       "    </tr>\n",
       "  </tbody>\n",
       "</table>\n",
       "</div>"
      ],
      "text/plain": [
       "   PassengerId  Survived\n",
       "0          892         0\n",
       "1          893         0\n",
       "2          894         0\n",
       "3          895         1\n",
       "4          896         1"
      ]
     },
     "execution_count": 61,
     "metadata": {},
     "output_type": "execute_result"
    }
   ],
   "source": [
    "lr_ens_prob = ensembling_engine(trained_clfs, train_x, train_y, test_x, ensembler)\n",
    "lr_ens_prob = pd.DataFrame(lr_ens_prob)[1]\n",
    "#lr_ens_prob\n",
    "lr_ens_sub = make_submission_file(dataset+\"lr_ens.csv\", lr_ens_prob, test_id, IdCol, targetCol, threshold=0.5)\n",
    "lr_ens_sub.head()"
   ]
  },
  {
   "cell_type": "markdown",
   "metadata": {
    "papermill": {
     "duration": 0.100098,
     "end_time": "2021-02-17T13:06:30.664950",
     "exception": false,
     "start_time": "2021-02-17T13:06:30.564852",
     "status": "completed"
    },
    "tags": []
   },
   "source": [
    "### 2.2) RandomForest\n",
    "\n",
    "Let's try with random forest. We'll do ensembling on Validation Set and then evaluate it!"
   ]
  },
  {
   "cell_type": "code",
   "execution_count": 62,
   "metadata": {
    "execution": {
     "iopub.execute_input": "2021-02-17T13:06:30.864664Z",
     "iopub.status.busy": "2021-02-17T13:06:30.863948Z",
     "iopub.status.idle": "2021-02-17T13:06:30.867079Z",
     "shell.execute_reply": "2021-02-17T13:06:30.866416Z"
    },
    "papermill": {
     "duration": 0.103318,
     "end_time": "2021-02-17T13:06:30.867227",
     "exception": false,
     "start_time": "2021-02-17T13:06:30.763909",
     "status": "completed"
    },
    "tags": []
   },
   "outputs": [],
   "source": [
    "ensembler = RandomForestClassifier()"
   ]
  },
  {
   "cell_type": "code",
   "execution_count": 63,
   "metadata": {
    "execution": {
     "iopub.execute_input": "2021-02-17T13:06:31.067695Z",
     "iopub.status.busy": "2021-02-17T13:06:31.066937Z",
     "iopub.status.idle": "2021-02-17T13:06:31.667533Z",
     "shell.execute_reply": "2021-02-17T13:06:31.668045Z"
    },
    "papermill": {
     "duration": 0.704016,
     "end_time": "2021-02-17T13:06:31.668234",
     "exception": false,
     "start_time": "2021-02-17T13:06:30.964218",
     "status": "completed"
    },
    "tags": []
   },
   "outputs": [
    {
     "name": "stdout",
     "output_type": "stream",
     "text": [
      "Precision :  0.775\n",
      "Recall :  0.8157894736842105\n",
      "F1 Score :  0.7948717948717949\n",
      "Validation Accuracy :  82.12290502793296\n",
      "Accuracy Score :  0.8212290502793296\n",
      "AUC Value :  0.8205160960654062\n"
     ]
    },
    {
     "data": {
      "image/png": "[encoded data removed]",
      "text/plain": [
       "<Figure size 432x288 with 2 Axes>"
      ]
     },
     "metadata": {
      "needs_background": "light"
     },
     "output_type": "display_data"
    }
   ],
   "source": [
    "rfc_ens_val_prob = ensembling_engine(trained_clfs, train_x, train_y, val_x, ensembler)\n",
    "rfc_ens_val_prob = pd.DataFrame(rfc_ens_val_prob)[1]\n",
    "threshold = 0.4\n",
    "rfc_ens_val_pred = [1 if x >= threshold else 0 for x in rfc_ens_val_prob]\n",
    "rfc_ens_acc, rfc_ens_auc, rfc_ens_f1 = evaluate_model_performnce(val_y, rfc_ens_val_pred) "
   ]
  },
  {
   "cell_type": "code",
   "execution_count": 64,
   "metadata": {
    "execution": {
     "iopub.execute_input": "2021-02-17T13:06:31.875922Z",
     "iopub.status.busy": "2021-02-17T13:06:31.875102Z",
     "iopub.status.idle": "2021-02-17T13:06:32.204654Z",
     "shell.execute_reply": "2021-02-17T13:06:32.203375Z"
    },
    "papermill": {
     "duration": 0.436725,
     "end_time": "2021-02-17T13:06:32.204832",
     "exception": false,
     "start_time": "2021-02-17T13:06:31.768107",
     "status": "completed"
    },
    "tags": []
   },
   "outputs": [
    {
     "data": {
      "text/html": [
       "<div>\n",
       "<style scoped>\n",
       "    .dataframe tbody tr th:only-of-type {\n",
       "        vertical-align: middle;\n",
       "    }\n",
       "\n",
       "    .dataframe tbody tr th {\n",
       "        vertical-align: top;\n",
       "    }\n",
       "\n",
       "    .dataframe thead th {\n",
       "        text-align: right;\n",
       "    }\n",
       "</style>\n",
       "<table border=\"1\" class=\"dataframe\">\n",
       "  <thead>\n",
       "    <tr style=\"text-align: right;\">\n",
       "      <th></th>\n",
       "      <th>PassengerId</th>\n",
       "      <th>Survived</th>\n",
       "    </tr>\n",
       "  </thead>\n",
       "  <tbody>\n",
       "    <tr>\n",
       "      <th>0</th>\n",
       "      <td>892</td>\n",
       "      <td>0</td>\n",
       "    </tr>\n",
       "    <tr>\n",
       "      <th>1</th>\n",
       "      <td>893</td>\n",
       "      <td>0</td>\n",
       "    </tr>\n",
       "    <tr>\n",
       "      <th>2</th>\n",
       "      <td>894</td>\n",
       "      <td>0</td>\n",
       "    </tr>\n",
       "    <tr>\n",
       "      <th>3</th>\n",
       "      <td>895</td>\n",
       "      <td>1</td>\n",
       "    </tr>\n",
       "    <tr>\n",
       "      <th>4</th>\n",
       "      <td>896</td>\n",
       "      <td>1</td>\n",
       "    </tr>\n",
       "  </tbody>\n",
       "</table>\n",
       "</div>"
      ],
      "text/plain": [
       "   PassengerId  Survived\n",
       "0          892         0\n",
       "1          893         0\n",
       "2          894         0\n",
       "3          895         1\n",
       "4          896         1"
      ]
     },
     "execution_count": 64,
     "metadata": {},
     "output_type": "execute_result"
    }
   ],
   "source": [
    "rfc_ens_prob = ensembling_engine(trained_clfs, train_x, train_y, test_x, ensembler)\n",
    "rfc_ens_prob = pd.DataFrame(rfc_ens_prob)[1]\n",
    "#rfc_ens_prob\n",
    "rfc_ens_sub = make_submission_file(dataset+\"rfc_ens.csv\", rfc_ens_prob, test_id, IdCol, targetCol, threshold=0.5)\n",
    "rfc_ens_sub.head()"
   ]
  },
  {
   "cell_type": "markdown",
   "metadata": {
    "papermill": {
     "duration": 0.100258,
     "end_time": "2021-02-17T13:06:32.405641",
     "exception": false,
     "start_time": "2021-02-17T13:06:32.305383",
     "status": "completed"
    },
    "tags": []
   },
   "source": [
    "### 2.3) Gradient Booster\n",
    "\n",
    "Let's try with gradient booster. We'll do ensembling on Validation Set and then evaluate it!"
   ]
  },
  {
   "cell_type": "code",
   "execution_count": 65,
   "metadata": {
    "execution": {
     "iopub.execute_input": "2021-02-17T13:06:32.610279Z",
     "iopub.status.busy": "2021-02-17T13:06:32.609525Z",
     "iopub.status.idle": "2021-02-17T13:06:32.611700Z",
     "shell.execute_reply": "2021-02-17T13:06:32.612226Z"
    },
    "papermill": {
     "duration": 0.107482,
     "end_time": "2021-02-17T13:06:32.612546",
     "exception": false,
     "start_time": "2021-02-17T13:06:32.505064",
     "status": "completed"
    },
    "tags": []
   },
   "outputs": [],
   "source": [
    "ensembler = GradientBoostingClassifier()"
   ]
  },
  {
   "cell_type": "code",
   "execution_count": 66,
   "metadata": {
    "execution": {
     "iopub.execute_input": "2021-02-17T13:06:32.819564Z",
     "iopub.status.busy": "2021-02-17T13:06:32.818881Z",
     "iopub.status.idle": "2021-02-17T13:06:33.341270Z",
     "shell.execute_reply": "2021-02-17T13:06:33.340611Z"
    },
    "papermill": {
     "duration": 0.625973,
     "end_time": "2021-02-17T13:06:33.341512",
     "exception": false,
     "start_time": "2021-02-17T13:06:32.715539",
     "status": "completed"
    },
    "tags": []
   },
   "outputs": [
    {
     "name": "stdout",
     "output_type": "stream",
     "text": [
      "Precision :  0.7848101265822784\n",
      "Recall :  0.8157894736842105\n",
      "F1 Score :  0.7999999999999999\n",
      "Validation Accuracy :  82.68156424581005\n",
      "Accuracy Score :  0.8268156424581006\n",
      "AUC Value :  0.8253704649974452\n"
     ]
    },
    {
     "data": {
      "image/png": "[encoded data removed]",
      "text/plain": [
       "<Figure size 432x288 with 2 Axes>"
      ]
     },
     "metadata": {
      "needs_background": "light"
     },
     "output_type": "display_data"
    }
   ],
   "source": [
    "gbc_ens_val_prob = ensembling_engine(trained_clfs, train_x, train_y, val_x, ensembler)\n",
    "gbc_ens_val_prob = pd.DataFrame(gbc_ens_val_prob)[1]\n",
    "threshold = 0.4\n",
    "gbc_ens_val_pred = [1 if x >= threshold else 0 for x in gbc_ens_val_prob]\n",
    "gbc_ens_acc, gbc_ens_auc, gbc_ens_f1 = evaluate_model_performnce(val_y, gbc_ens_val_pred) "
   ]
  },
  {
   "cell_type": "code",
   "execution_count": 67,
   "metadata": {
    "execution": {
     "iopub.execute_input": "2021-02-17T13:06:33.560179Z",
     "iopub.status.busy": "2021-02-17T13:06:33.559330Z",
     "iopub.status.idle": "2021-02-17T13:06:33.826300Z",
     "shell.execute_reply": "2021-02-17T13:06:33.825200Z"
    },
    "papermill": {
     "duration": 0.381456,
     "end_time": "2021-02-17T13:06:33.826490",
     "exception": false,
     "start_time": "2021-02-17T13:06:33.445034",
     "status": "completed"
    },
    "tags": []
   },
   "outputs": [
    {
     "data": {
      "text/html": [
       "<div>\n",
       "<style scoped>\n",
       "    .dataframe tbody tr th:only-of-type {\n",
       "        vertical-align: middle;\n",
       "    }\n",
       "\n",
       "    .dataframe tbody tr th {\n",
       "        vertical-align: top;\n",
       "    }\n",
       "\n",
       "    .dataframe thead th {\n",
       "        text-align: right;\n",
       "    }\n",
       "</style>\n",
       "<table border=\"1\" class=\"dataframe\">\n",
       "  <thead>\n",
       "    <tr style=\"text-align: right;\">\n",
       "      <th></th>\n",
       "      <th>PassengerId</th>\n",
       "      <th>Survived</th>\n",
       "    </tr>\n",
       "  </thead>\n",
       "  <tbody>\n",
       "    <tr>\n",
       "      <th>0</th>\n",
       "      <td>892</td>\n",
       "      <td>0</td>\n",
       "    </tr>\n",
       "    <tr>\n",
       "      <th>1</th>\n",
       "      <td>893</td>\n",
       "      <td>0</td>\n",
       "    </tr>\n",
       "    <tr>\n",
       "      <th>2</th>\n",
       "      <td>894</td>\n",
       "      <td>1</td>\n",
       "    </tr>\n",
       "    <tr>\n",
       "      <th>3</th>\n",
       "      <td>895</td>\n",
       "      <td>1</td>\n",
       "    </tr>\n",
       "    <tr>\n",
       "      <th>4</th>\n",
       "      <td>896</td>\n",
       "      <td>1</td>\n",
       "    </tr>\n",
       "  </tbody>\n",
       "</table>\n",
       "</div>"
      ],
      "text/plain": [
       "   PassengerId  Survived\n",
       "0          892         0\n",
       "1          893         0\n",
       "2          894         1\n",
       "3          895         1\n",
       "4          896         1"
      ]
     },
     "execution_count": 67,
     "metadata": {},
     "output_type": "execute_result"
    }
   ],
   "source": [
    "gbc_ens_prob = ensembling_engine(trained_clfs, train_x, train_y, test_x, ensembler)\n",
    "gbc_ens_prob = pd.DataFrame(gbc_ens_prob)[1]\n",
    "#gbc_ens_prob\n",
    "gbc_ens_sub = make_submission_file(\"gbc_ens.csv\", gbc_ens_prob, test_id, IdCol, targetCol, threshold=0.5)\n",
    "gbc_ens_sub.head()"
   ]
  },
  {
   "cell_type": "markdown",
   "metadata": {
    "papermill": {
     "duration": 0.103039,
     "end_time": "2021-02-17T13:06:34.033144",
     "exception": false,
     "start_time": "2021-02-17T13:06:33.930105",
     "status": "completed"
    },
    "tags": []
   },
   "source": [
    "The next two methods are used on untrained-classifier.\n",
    "\n",
    "### 3) VotingClassifier\n",
    "\n",
    "It's a hard/soft Voting/Majority Rule classifier for unfitted estimators. In ‘hard’ mode, it uses predicted class labels for majority rule voting. Else if ‘soft’, predicts the class label based on the argmax of the sums of the predicted probabilities, which is recommended for an ensemble of well-calibrated classifiers. It's available in sklearn."
   ]
  },
  {
   "cell_type": "code",
   "execution_count": 68,
   "metadata": {
    "execution": {
     "iopub.execute_input": "2021-02-17T13:06:34.238780Z",
     "iopub.status.busy": "2021-02-17T13:06:34.238109Z",
     "iopub.status.idle": "2021-02-17T13:06:34.241404Z",
     "shell.execute_reply": "2021-02-17T13:06:34.241902Z"
    },
    "papermill": {
     "duration": 0.109015,
     "end_time": "2021-02-17T13:06:34.242084",
     "exception": false,
     "start_time": "2021-02-17T13:06:34.133069",
     "status": "completed"
    },
    "tags": []
   },
   "outputs": [],
   "source": [
    "from sklearn.ensemble import VotingClassifier"
   ]
  },
  {
   "cell_type": "code",
   "execution_count": 69,
   "metadata": {
    "execution": {
     "iopub.execute_input": "2021-02-17T13:06:34.451907Z",
     "iopub.status.busy": "2021-02-17T13:06:34.451195Z",
     "iopub.status.idle": "2021-02-17T13:06:36.396812Z",
     "shell.execute_reply": "2021-02-17T13:06:36.396252Z"
    },
    "papermill": {
     "duration": 2.054037,
     "end_time": "2021-02-17T13:06:36.396968",
     "exception": false,
     "start_time": "2021-02-17T13:06:34.342931",
     "status": "completed"
    },
    "tags": []
   },
   "outputs": [
    {
     "name": "stdout",
     "output_type": "stream",
     "text": [
      "[13:06:34] WARNING: ../src/learner.cc:1061: Starting in XGBoost 1.3.0, the default evaluation metric used with the objective 'binary:logistic' was changed from 'error' to 'logloss'. Explicitly set eval_metric if you'd like to restore the old behavior.\n"
     ]
    },
    {
     "data": {
      "text/plain": [
       "VotingClassifier(estimators=[('xgb',\n",
       "                              XGBClassifier(base_score=None, booster=None,\n",
       "                                            colsample_bylevel=None,\n",
       "                                            colsample_bynode=None,\n",
       "                                            colsample_bytree=None, gamma=None,\n",
       "                                            gpu_id=None, importance_type='gain',\n",
       "                                            interaction_constraints=None,\n",
       "                                            learning_rate=None,\n",
       "                                            max_delta_step=None, max_depth=None,\n",
       "                                            min_child_weight=None, missing=nan,\n",
       "                                            monotone_constraints=None,\n",
       "                                            n_estimators=100, n_jobs=None,\n",
       "                                            num_parallel_tree=None,\n",
       "                                            random_state=None, reg_alpha=None,\n",
       "                                            reg_lambda=None,\n",
       "                                            scale_pos_weight=None,\n",
       "                                            subsample=None, tree_method=None,\n",
       "                                            validate_parameters=None,\n",
       "                                            verbosity=None)),\n",
       "                             ('lgb', LGBMClassifier()),\n",
       "                             ('cat',\n",
       "                              <catboost.core.CatBoostClassifier object at 0x7ff0b6e44090>)],\n",
       "                 voting='soft')"
      ]
     },
     "execution_count": 69,
     "metadata": {},
     "output_type": "execute_result"
    }
   ],
   "source": [
    "v_xgb = XGBClassifier()\n",
    "v_lgb = LGBMClassifier()\n",
    "v_cat = CatBoostClassifier(verbose=0)\n",
    "\n",
    "v_clf = VotingClassifier(estimators=[('xgb', v_xgb), ('lgb', v_lgb), ('cat', v_cat)], voting='soft')\n",
    "v_clf.fit(train_x, train_y)"
   ]
  },
  {
   "cell_type": "code",
   "execution_count": 70,
   "metadata": {
    "execution": {
     "iopub.execute_input": "2021-02-17T13:06:36.622251Z",
     "iopub.status.busy": "2021-02-17T13:06:36.621529Z",
     "iopub.status.idle": "2021-02-17T13:06:36.947496Z",
     "shell.execute_reply": "2021-02-17T13:06:36.946739Z"
    },
    "papermill": {
     "duration": 0.446853,
     "end_time": "2021-02-17T13:06:36.947643",
     "exception": false,
     "start_time": "2021-02-17T13:06:36.500790",
     "status": "completed"
    },
    "tags": []
   },
   "outputs": [
    {
     "name": "stdout",
     "output_type": "stream",
     "text": [
      "Precision :  0.8533333333333334\n",
      "Recall :  0.8421052631578947\n",
      "F1 Score :  0.847682119205298\n",
      "Validation Accuracy :  87.15083798882681\n",
      "Accuracy Score :  0.8715083798882681\n",
      "AUC Value :  0.8676545733265203\n"
     ]
    },
    {
     "data": {
      "image/png": "[encoded data removed]",
      "text/plain": [
       "<Figure size 432x288 with 2 Axes>"
      ]
     },
     "metadata": {
      "needs_background": "light"
     },
     "output_type": "display_data"
    }
   ],
   "source": [
    "threshold = 0.4\n",
    "v_val_prob = v_clf.predict_proba(val_x)\n",
    "v_val_prob = pd.DataFrame(v_val_prob)[1]\n",
    "v_val_pred = [1 if x >= threshold else 0 for x in v_val_prob]\n",
    "v_acc, v_auc, v_f1 = evaluate_model_performnce(val_y, v_val_pred) "
   ]
  },
  {
   "cell_type": "markdown",
   "metadata": {
    "papermill": {
     "duration": 0.102388,
     "end_time": "2021-02-17T13:06:37.154540",
     "exception": false,
     "start_time": "2021-02-17T13:06:37.052152",
     "status": "completed"
    },
    "tags": []
   },
   "source": [
    "Making prediction on leaderboard dataset"
   ]
  },
  {
   "cell_type": "code",
   "execution_count": 71,
   "metadata": {
    "execution": {
     "iopub.execute_input": "2021-02-17T13:06:37.373905Z",
     "iopub.status.busy": "2021-02-17T13:06:37.373062Z",
     "iopub.status.idle": "2021-02-17T13:06:37.426562Z",
     "shell.execute_reply": "2021-02-17T13:06:37.425349Z"
    },
    "papermill": {
     "duration": 0.166508,
     "end_time": "2021-02-17T13:06:37.426729",
     "exception": false,
     "start_time": "2021-02-17T13:06:37.260221",
     "status": "completed"
    },
    "tags": []
   },
   "outputs": [],
   "source": [
    "v_prob = v_clf.predict_proba(test_x)\n",
    "v_prob = pd.DataFrame(v_prob)[1]"
   ]
  },
  {
   "cell_type": "markdown",
   "metadata": {
    "papermill": {
     "duration": 0.108138,
     "end_time": "2021-02-17T13:06:37.640515",
     "exception": false,
     "start_time": "2021-02-17T13:06:37.532377",
     "status": "completed"
    },
    "tags": []
   },
   "source": [
    "Writing submission file"
   ]
  },
  {
   "cell_type": "code",
   "execution_count": 72,
   "metadata": {
    "execution": {
     "iopub.execute_input": "2021-02-17T13:06:37.862119Z",
     "iopub.status.busy": "2021-02-17T13:06:37.861393Z",
     "iopub.status.idle": "2021-02-17T13:06:37.870248Z",
     "shell.execute_reply": "2021-02-17T13:06:37.869703Z"
    },
    "papermill": {
     "duration": 0.124517,
     "end_time": "2021-02-17T13:06:37.870409",
     "exception": false,
     "start_time": "2021-02-17T13:06:37.745892",
     "status": "completed"
    },
    "tags": []
   },
   "outputs": [
    {
     "data": {
      "text/html": [
       "<div>\n",
       "<style scoped>\n",
       "    .dataframe tbody tr th:only-of-type {\n",
       "        vertical-align: middle;\n",
       "    }\n",
       "\n",
       "    .dataframe tbody tr th {\n",
       "        vertical-align: top;\n",
       "    }\n",
       "\n",
       "    .dataframe thead th {\n",
       "        text-align: right;\n",
       "    }\n",
       "</style>\n",
       "<table border=\"1\" class=\"dataframe\">\n",
       "  <thead>\n",
       "    <tr style=\"text-align: right;\">\n",
       "      <th></th>\n",
       "      <th>PassengerId</th>\n",
       "      <th>Survived</th>\n",
       "    </tr>\n",
       "  </thead>\n",
       "  <tbody>\n",
       "    <tr>\n",
       "      <th>0</th>\n",
       "      <td>892</td>\n",
       "      <td>0</td>\n",
       "    </tr>\n",
       "    <tr>\n",
       "      <th>1</th>\n",
       "      <td>893</td>\n",
       "      <td>0</td>\n",
       "    </tr>\n",
       "    <tr>\n",
       "      <th>2</th>\n",
       "      <td>894</td>\n",
       "      <td>0</td>\n",
       "    </tr>\n",
       "    <tr>\n",
       "      <th>3</th>\n",
       "      <td>895</td>\n",
       "      <td>0</td>\n",
       "    </tr>\n",
       "    <tr>\n",
       "      <th>4</th>\n",
       "      <td>896</td>\n",
       "      <td>0</td>\n",
       "    </tr>\n",
       "  </tbody>\n",
       "</table>\n",
       "</div>"
      ],
      "text/plain": [
       "   PassengerId  Survived\n",
       "0          892         0\n",
       "1          893         0\n",
       "2          894         0\n",
       "3          895         0\n",
       "4          896         0"
      ]
     },
     "execution_count": 72,
     "metadata": {},
     "output_type": "execute_result"
    }
   ],
   "source": [
    "v_sub = make_submission_file(dataset+\"_voting_ens.csv\", v_prob, test_id, IdCol, targetCol, threshold=0.5)\n",
    "v_sub.head()"
   ]
  },
  {
   "cell_type": "markdown",
   "metadata": {
    "papermill": {
     "duration": 0.104143,
     "end_time": "2021-02-17T13:06:38.085660",
     "exception": false,
     "start_time": "2021-02-17T13:06:37.981517",
     "status": "completed"
    },
    "tags": []
   },
   "source": [
    "### 4) StackingClassifier\n",
    "\n",
    "Stacked generalization consists in stacking the output of individual estimator and use a classifier to compute the final prediction. Stacking allows to use the strength of each individual estimator by using their output as input of a final estimator. So basically what we have implemented in technique 2 is similar to stacking classifier. It's readily available in sklearn."
   ]
  },
  {
   "cell_type": "code",
   "execution_count": 73,
   "metadata": {
    "execution": {
     "iopub.execute_input": "2021-02-17T13:06:38.311391Z",
     "iopub.status.busy": "2021-02-17T13:06:38.310732Z",
     "iopub.status.idle": "2021-02-17T13:06:38.315560Z",
     "shell.execute_reply": "2021-02-17T13:06:38.314987Z"
    },
    "papermill": {
     "duration": 0.122691,
     "end_time": "2021-02-17T13:06:38.315814",
     "exception": false,
     "start_time": "2021-02-17T13:06:38.193123",
     "status": "completed"
    },
    "tags": []
   },
   "outputs": [],
   "source": [
    "from sklearn.ensemble import StackingClassifier"
   ]
  },
  {
   "cell_type": "code",
   "execution_count": 74,
   "metadata": {
    "execution": {
     "iopub.execute_input": "2021-02-17T13:06:38.547406Z",
     "iopub.status.busy": "2021-02-17T13:06:38.545368Z",
     "iopub.status.idle": "2021-02-17T13:06:49.821352Z",
     "shell.execute_reply": "2021-02-17T13:06:49.820491Z"
    },
    "papermill": {
     "duration": 11.400433,
     "end_time": "2021-02-17T13:06:49.821618",
     "exception": false,
     "start_time": "2021-02-17T13:06:38.421185",
     "status": "completed"
    },
    "tags": []
   },
   "outputs": [
    {
     "name": "stdout",
     "output_type": "stream",
     "text": [
      "[13:06:38] WARNING: ../src/learner.cc:1061: Starting in XGBoost 1.3.0, the default evaluation metric used with the objective 'binary:logistic' was changed from 'error' to 'logloss'. Explicitly set eval_metric if you'd like to restore the old behavior.\n",
      "[13:06:40] WARNING: ../src/learner.cc:1061: Starting in XGBoost 1.3.0, the default evaluation metric used with the objective 'binary:logistic' was changed from 'error' to 'logloss'. Explicitly set eval_metric if you'd like to restore the old behavior.\n",
      "[13:06:40] WARNING: ../src/learner.cc:1061: Starting in XGBoost 1.3.0, the default evaluation metric used with the objective 'binary:logistic' was changed from 'error' to 'logloss'. Explicitly set eval_metric if you'd like to restore the old behavior.\n",
      "[13:06:40] WARNING: ../src/learner.cc:1061: Starting in XGBoost 1.3.0, the default evaluation metric used with the objective 'binary:logistic' was changed from 'error' to 'logloss'. Explicitly set eval_metric if you'd like to restore the old behavior.\n",
      "[13:06:41] WARNING: ../src/learner.cc:1061: Starting in XGBoost 1.3.0, the default evaluation metric used with the objective 'binary:logistic' was changed from 'error' to 'logloss'. Explicitly set eval_metric if you'd like to restore the old behavior.\n",
      "[13:06:41] WARNING: ../src/learner.cc:1061: Starting in XGBoost 1.3.0, the default evaluation metric used with the objective 'binary:logistic' was changed from 'error' to 'logloss'. Explicitly set eval_metric if you'd like to restore the old behavior.\n"
     ]
    },
    {
     "data": {
      "text/plain": [
       "StackingClassifier(estimators=[('xgb',\n",
       "                                XGBClassifier(base_score=None, booster=None,\n",
       "                                              colsample_bylevel=None,\n",
       "                                              colsample_bynode=None,\n",
       "                                              colsample_bytree=None, gamma=None,\n",
       "                                              gpu_id=None,\n",
       "                                              importance_type='gain',\n",
       "                                              interaction_constraints=None,\n",
       "                                              learning_rate=None,\n",
       "                                              max_delta_step=None,\n",
       "                                              max_depth=None,\n",
       "                                              min_child_weight=None,\n",
       "                                              missing=nan,\n",
       "                                              monotone_constraints=None,\n",
       "                                              n_estimators=100, n_jobs=None,\n",
       "                                              num_parallel_tree=None,\n",
       "                                              random_state=None, reg_alpha=None,\n",
       "                                              reg_lambda=None,\n",
       "                                              scale_pos_weight=None,\n",
       "                                              subsample=None, tree_method=None,\n",
       "                                              validate_parameters=None,\n",
       "                                              verbosity=None)),\n",
       "                               ('lgb', LGBMClassifier()),\n",
       "                               ('cat',\n",
       "                                <catboost.core.CatBoostClassifier object at 0x7ff0b96bb150>)],\n",
       "                   final_estimator=GradientBoostingClassifier())"
      ]
     },
     "execution_count": 74,
     "metadata": {},
     "output_type": "execute_result"
    }
   ],
   "source": [
    "st_xgb = XGBClassifier()\n",
    "st_lgb = LGBMClassifier()\n",
    "st_cat = CatBoostClassifier(verbose=0)\n",
    "\n",
    "st_clf = StackingClassifier(estimators=[('xgb', st_xgb), ('lgb', st_lgb), ('cat', st_cat)], \n",
    "                            final_estimator=GradientBoostingClassifier())\n",
    "st_clf.fit(train_x, train_y)"
   ]
  },
  {
   "cell_type": "code",
   "execution_count": 75,
   "metadata": {
    "execution": {
     "iopub.execute_input": "2021-02-17T13:06:50.104943Z",
     "iopub.status.busy": "2021-02-17T13:06:50.094517Z",
     "iopub.status.idle": "2021-02-17T13:06:50.430575Z",
     "shell.execute_reply": "2021-02-17T13:06:50.429848Z"
    },
    "papermill": {
     "duration": 0.486135,
     "end_time": "2021-02-17T13:06:50.430748",
     "exception": false,
     "start_time": "2021-02-17T13:06:49.944613",
     "status": "completed"
    },
    "tags": []
   },
   "outputs": [
    {
     "name": "stdout",
     "output_type": "stream",
     "text": [
      "Precision :  0.7948717948717948\n",
      "Recall :  0.8157894736842105\n",
      "F1 Score :  0.8051948051948051\n",
      "Validation Accuracy :  83.24022346368714\n",
      "Accuracy Score :  0.8324022346368715\n",
      "AUC Value :  0.830224833929484\n"
     ]
    },
    {
     "data": {
      "image/png": "[encoded data removed]",
      "text/plain": [
       "<Figure size 432x288 with 2 Axes>"
      ]
     },
     "metadata": {
      "needs_background": "light"
     },
     "output_type": "display_data"
    }
   ],
   "source": [
    "threshold = 0.4\n",
    "st_val_prob = st_clf.predict_proba(val_x)\n",
    "st_val_prob = pd.DataFrame(st_val_prob)[1]\n",
    "st_val_pred = [1 if x >= threshold else 0 for x in st_val_prob]\n",
    "st_acc, st_auc, st_f1 = evaluate_model_performnce(val_y, st_val_pred) "
   ]
  },
  {
   "cell_type": "markdown",
   "metadata": {
    "papermill": {
     "duration": 0.111801,
     "end_time": "2021-02-17T13:06:50.659779",
     "exception": false,
     "start_time": "2021-02-17T13:06:50.547978",
     "status": "completed"
    },
    "tags": []
   },
   "source": [
    "Making Prediction on leaderboard dataset"
   ]
  },
  {
   "cell_type": "code",
   "execution_count": 76,
   "metadata": {
    "execution": {
     "iopub.execute_input": "2021-02-17T13:06:50.910290Z",
     "iopub.status.busy": "2021-02-17T13:06:50.909550Z",
     "iopub.status.idle": "2021-02-17T13:06:50.929045Z",
     "shell.execute_reply": "2021-02-17T13:06:50.928380Z"
    },
    "papermill": {
     "duration": 0.161664,
     "end_time": "2021-02-17T13:06:50.929221",
     "exception": false,
     "start_time": "2021-02-17T13:06:50.767557",
     "status": "completed"
    },
    "tags": []
   },
   "outputs": [],
   "source": [
    "st_prob = st_clf.predict_proba(test_x)\n",
    "st_prob = pd.DataFrame(st_prob)[1]"
   ]
  },
  {
   "cell_type": "markdown",
   "metadata": {
    "papermill": {
     "duration": 0.110862,
     "end_time": "2021-02-17T13:06:51.148668",
     "exception": false,
     "start_time": "2021-02-17T13:06:51.037806",
     "status": "completed"
    },
    "tags": []
   },
   "source": [
    "Writing submission file"
   ]
  },
  {
   "cell_type": "code",
   "execution_count": 77,
   "metadata": {
    "execution": {
     "iopub.execute_input": "2021-02-17T13:06:51.373707Z",
     "iopub.status.busy": "2021-02-17T13:06:51.372712Z",
     "iopub.status.idle": "2021-02-17T13:06:51.385805Z",
     "shell.execute_reply": "2021-02-17T13:06:51.385080Z"
    },
    "papermill": {
     "duration": 0.129965,
     "end_time": "2021-02-17T13:06:51.385980",
     "exception": false,
     "start_time": "2021-02-17T13:06:51.256015",
     "status": "completed"
    },
    "tags": []
   },
   "outputs": [
    {
     "data": {
      "text/html": [
       "<div>\n",
       "<style scoped>\n",
       "    .dataframe tbody tr th:only-of-type {\n",
       "        vertical-align: middle;\n",
       "    }\n",
       "\n",
       "    .dataframe tbody tr th {\n",
       "        vertical-align: top;\n",
       "    }\n",
       "\n",
       "    .dataframe thead th {\n",
       "        text-align: right;\n",
       "    }\n",
       "</style>\n",
       "<table border=\"1\" class=\"dataframe\">\n",
       "  <thead>\n",
       "    <tr style=\"text-align: right;\">\n",
       "      <th></th>\n",
       "      <th>PassengerId</th>\n",
       "      <th>Survived</th>\n",
       "    </tr>\n",
       "  </thead>\n",
       "  <tbody>\n",
       "    <tr>\n",
       "      <th>0</th>\n",
       "      <td>892</td>\n",
       "      <td>0</td>\n",
       "    </tr>\n",
       "    <tr>\n",
       "      <th>1</th>\n",
       "      <td>893</td>\n",
       "      <td>1</td>\n",
       "    </tr>\n",
       "    <tr>\n",
       "      <th>2</th>\n",
       "      <td>894</td>\n",
       "      <td>0</td>\n",
       "    </tr>\n",
       "    <tr>\n",
       "      <th>3</th>\n",
       "      <td>895</td>\n",
       "      <td>0</td>\n",
       "    </tr>\n",
       "    <tr>\n",
       "      <th>4</th>\n",
       "      <td>896</td>\n",
       "      <td>0</td>\n",
       "    </tr>\n",
       "  </tbody>\n",
       "</table>\n",
       "</div>"
      ],
      "text/plain": [
       "   PassengerId  Survived\n",
       "0          892         0\n",
       "1          893         1\n",
       "2          894         0\n",
       "3          895         0\n",
       "4          896         0"
      ]
     },
     "execution_count": 77,
     "metadata": {},
     "output_type": "execute_result"
    }
   ],
   "source": [
    "st_sub = make_submission_file(dataset+\"_stacking_ens.csv\", st_prob, test_id, IdCol, targetCol, threshold=0.5)\n",
    "st_sub.head()"
   ]
  },
  {
   "cell_type": "markdown",
   "metadata": {
    "papermill": {
     "duration": 0.110131,
     "end_time": "2021-02-17T13:06:51.613990",
     "exception": false,
     "start_time": "2021-02-17T13:06:51.503859",
     "status": "completed"
    },
    "tags": []
   },
   "source": [
    "#### These are some of the methods used for ensembling. If you found this kernel interesting consider UPVOTING it. Thanks! #Open_to_discussion.\n",
    "\n",
    "#### I have prepared another notebook on Hyper-parameter optimization that you may find insightful. Here - [Getting Started with Hyper-parameter Optimization](https://www.kaggle.com/pashupatigupta/getting-started-with-hyper-parameter-optimization). One highlight is that it talks about Bayesian Optimization in detail.\n",
    "\n",
    "### Happy Learning!!"
   ]
  },
  {
   "cell_type": "code",
   "execution_count": null,
   "metadata": {
    "papermill": {
     "duration": 0.111803,
     "end_time": "2021-02-17T13:06:51.839067",
     "exception": false,
     "start_time": "2021-02-17T13:06:51.727264",
     "status": "completed"
    },
    "tags": []
   },
   "outputs": [],
   "source": []
  }
 ],
 "metadata": {
  "kernelspec": {
   "display_name": "Python 3",
   "language": "python",
   "name": "python3"
  },
  "language_info": {
   "codemirror_mode": {
    "name": "ipython",
    "version": 3
   },
   "file_extension": ".py",
   "mimetype": "text/x-python",
   "name": "python",
   "nbconvert_exporter": "python",
   "pygments_lexer": "ipython3",
   "version": "3.8.3"
  },
  "papermill": {
   "default_parameters": {},
   "duration": 59.434843,
   "end_time": "2021-02-17T13:06:52.759466",
   "environment_variables": {},
   "exception": null,
   "input_path": "__notebook__.ipynb",
   "output_path": "__notebook__.ipynb",
   "parameters": {},
   "start_time": "2021-02-17T13:05:53.324623",
   "version": "2.2.2"
  }
 },
 "nbformat": 4,
 "nbformat_minor": 4
}
